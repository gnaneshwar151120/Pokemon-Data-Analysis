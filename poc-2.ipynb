{
 "cells": [
  {
   "cell_type": "code",
   "execution_count": 5,
   "metadata": {},
   "outputs": [],
   "source": [
    "import numpy as np \n",
    "import pandas as pd \n",
    "from subprocess import check_output\n"
   ]
  },
  {
   "cell_type": "code",
   "execution_count": 7,
   "metadata": {},
   "outputs": [
    {
     "data": {
      "text/html": [
       "        <script type=\"text/javascript\">\n",
       "        window.PlotlyConfig = {MathJaxConfig: 'local'};\n",
       "        if (window.MathJax) {MathJax.Hub.Config({SVG: {font: \"STIX-Web\"}});}\n",
       "        if (typeof require !== 'undefined') {\n",
       "        require.undef(\"plotly\");\n",
       "        requirejs.config({\n",
       "            paths: {\n",
       "                'plotly': ['https://cdn.plot.ly/plotly-latest.min']\n",
       "            }\n",
       "        });\n",
       "        require(['plotly'], function(Plotly) {\n",
       "            window._Plotly = Plotly;\n",
       "        });\n",
       "        }\n",
       "        </script>\n",
       "        "
      ]
     },
     "metadata": {},
     "output_type": "display_data"
    }
   ],
   "source": [
    "import matplotlib.pyplot as plt\n",
    "plt.style.use(\"fivethirtyeight\")\n",
    "%matplotlib inline\n",
    "\n",
    "import plotly as py\n",
    "import plotly.graph_objs as go\n",
    "py.offline.init_notebook_mode(connected=True)"
   ]
  },
  {
   "cell_type": "code",
   "execution_count": 9,
   "metadata": {},
   "outputs": [],
   "source": [
    "df = pd.read_csv(\"D:/3-1/BDE/lab/Pokemon.csv\") "
   ]
  },
  {
   "cell_type": "code",
   "execution_count": 12,
   "metadata": {},
   "outputs": [],
   "source": [
    "df.columns = df.columns.str.upper().str.replace(\"_\", \" \")\n"
   ]
  },
  {
   "cell_type": "code",
   "execution_count": 13,
   "metadata": {},
   "outputs": [],
   "source": [
    "df = df.set_index(\"NAME\")"
   ]
  },
  {
   "cell_type": "code",
   "execution_count": 15,
   "metadata": {},
   "outputs": [],
   "source": [
    "df = df.drop([\"ID\"], axis=1)"
   ]
  },
  {
   "cell_type": "code",
   "execution_count": 16,
   "metadata": {},
   "outputs": [],
   "source": [
    "df.index = df.index.str.replace(\".*(?=Mega)\", \"\")"
   ]
  },
  {
   "cell_type": "code",
   "execution_count": 17,
   "metadata": {},
   "outputs": [
    {
     "data": {
      "text/html": [
       "<div>\n",
       "<style scoped>\n",
       "    .dataframe tbody tr th:only-of-type {\n",
       "        vertical-align: middle;\n",
       "    }\n",
       "\n",
       "    .dataframe tbody tr th {\n",
       "        vertical-align: top;\n",
       "    }\n",
       "\n",
       "    .dataframe thead th {\n",
       "        text-align: right;\n",
       "    }\n",
       "</style>\n",
       "<table border=\"1\" class=\"dataframe\">\n",
       "  <thead>\n",
       "    <tr style=\"text-align: right;\">\n",
       "      <th></th>\n",
       "      <th>TYPE 1</th>\n",
       "      <th>TYPE 2</th>\n",
       "      <th>TOTAL</th>\n",
       "      <th>HP</th>\n",
       "      <th>ATTACK</th>\n",
       "      <th>DEFENSE</th>\n",
       "      <th>SP. ATK</th>\n",
       "      <th>SP. DEF</th>\n",
       "      <th>SPEED</th>\n",
       "      <th>GENERATION</th>\n",
       "      <th>LEGENDARY</th>\n",
       "    </tr>\n",
       "    <tr>\n",
       "      <th>NAME</th>\n",
       "      <th></th>\n",
       "      <th></th>\n",
       "      <th></th>\n",
       "      <th></th>\n",
       "      <th></th>\n",
       "      <th></th>\n",
       "      <th></th>\n",
       "      <th></th>\n",
       "      <th></th>\n",
       "      <th></th>\n",
       "      <th></th>\n",
       "    </tr>\n",
       "  </thead>\n",
       "  <tbody>\n",
       "    <tr>\n",
       "      <th>Bulbasaur</th>\n",
       "      <td>Grass</td>\n",
       "      <td>Poison</td>\n",
       "      <td>318</td>\n",
       "      <td>45</td>\n",
       "      <td>49</td>\n",
       "      <td>49</td>\n",
       "      <td>65</td>\n",
       "      <td>65</td>\n",
       "      <td>45</td>\n",
       "      <td>1</td>\n",
       "      <td>False</td>\n",
       "    </tr>\n",
       "    <tr>\n",
       "      <th>Ivysaur</th>\n",
       "      <td>Grass</td>\n",
       "      <td>Poison</td>\n",
       "      <td>405</td>\n",
       "      <td>60</td>\n",
       "      <td>62</td>\n",
       "      <td>63</td>\n",
       "      <td>80</td>\n",
       "      <td>80</td>\n",
       "      <td>60</td>\n",
       "      <td>1</td>\n",
       "      <td>False</td>\n",
       "    </tr>\n",
       "    <tr>\n",
       "      <th>Venusaur</th>\n",
       "      <td>Grass</td>\n",
       "      <td>Poison</td>\n",
       "      <td>525</td>\n",
       "      <td>80</td>\n",
       "      <td>82</td>\n",
       "      <td>83</td>\n",
       "      <td>100</td>\n",
       "      <td>100</td>\n",
       "      <td>80</td>\n",
       "      <td>1</td>\n",
       "      <td>False</td>\n",
       "    </tr>\n",
       "    <tr>\n",
       "      <th>Mega Venusaur</th>\n",
       "      <td>Grass</td>\n",
       "      <td>Poison</td>\n",
       "      <td>625</td>\n",
       "      <td>80</td>\n",
       "      <td>100</td>\n",
       "      <td>123</td>\n",
       "      <td>122</td>\n",
       "      <td>120</td>\n",
       "      <td>80</td>\n",
       "      <td>1</td>\n",
       "      <td>False</td>\n",
       "    </tr>\n",
       "    <tr>\n",
       "      <th>Charmander</th>\n",
       "      <td>Fire</td>\n",
       "      <td>Fire</td>\n",
       "      <td>309</td>\n",
       "      <td>39</td>\n",
       "      <td>52</td>\n",
       "      <td>43</td>\n",
       "      <td>60</td>\n",
       "      <td>50</td>\n",
       "      <td>65</td>\n",
       "      <td>1</td>\n",
       "      <td>False</td>\n",
       "    </tr>\n",
       "  </tbody>\n",
       "</table>\n",
       "</div>"
      ],
      "text/plain": [
       "              TYPE 1  TYPE 2  TOTAL  HP  ATTACK  DEFENSE  SP. ATK  SP. DEF  \\\n",
       "NAME                                                                         \n",
       "Bulbasaur      Grass  Poison    318  45      49       49       65       65   \n",
       "Ivysaur        Grass  Poison    405  60      62       63       80       80   \n",
       "Venusaur       Grass  Poison    525  80      82       83      100      100   \n",
       "Mega Venusaur  Grass  Poison    625  80     100      123      122      120   \n",
       "Charmander      Fire    Fire    309  39      52       43       60       50   \n",
       "\n",
       "               SPEED  GENERATION  LEGENDARY  \n",
       "NAME                                         \n",
       "Bulbasaur         45           1      False  \n",
       "Ivysaur           60           1      False  \n",
       "Venusaur          80           1      False  \n",
       "Mega Venusaur     80           1      False  \n",
       "Charmander        65           1      False  "
      ]
     },
     "execution_count": 17,
     "metadata": {},
     "output_type": "execute_result"
    }
   ],
   "source": [
    "df[\"TYPE 2\"].fillna(df[\"TYPE 1\"], inplace=True)\n",
    "df.head()"
   ]
  },
  {
   "cell_type": "code",
   "execution_count": 18,
   "metadata": {},
   "outputs": [
    {
     "name": "stdout",
     "output_type": "stream",
     "text": [
      "           TOTAL          HP      ATTACK     DEFENSE     SP. ATK     SP. DEF  \\\n",
      "count  800.00000  800.000000  800.000000  800.000000  800.000000  800.000000   \n",
      "mean   435.10250   69.258750   79.001250   73.842500   72.820000   71.902500   \n",
      "std    119.96304   25.534669   32.457366   31.183501   32.722294   27.828916   \n",
      "min    180.00000    1.000000    5.000000    5.000000   10.000000   20.000000   \n",
      "25%    330.00000   50.000000   55.000000   50.000000   49.750000   50.000000   \n",
      "50%    450.00000   65.000000   75.000000   70.000000   65.000000   70.000000   \n",
      "75%    515.00000   80.000000  100.000000   90.000000   95.000000   90.000000   \n",
      "max    780.00000  255.000000  190.000000  230.000000  194.000000  230.000000   \n",
      "\n",
      "            SPEED  GENERATION  \n",
      "count  800.000000   800.00000  \n",
      "mean    68.277500     3.32375  \n",
      "std     29.060474     1.66129  \n",
      "min      5.000000     1.00000  \n",
      "25%     45.000000     2.00000  \n",
      "50%     65.000000     3.00000  \n",
      "75%     90.000000     5.00000  \n",
      "max    180.000000     6.00000  \n"
     ]
    }
   ],
   "source": [
    "df_summary = df.describe()\n",
    "print(df_summary)"
   ]
  },
  {
   "cell_type": "code",
   "execution_count": 19,
   "metadata": {},
   "outputs": [
    {
     "data": {
      "image/png": "[encoded data removed]",
      "text/plain": [
       "<Figure size 432x288 with 1 Axes>"
      ]
     },
     "metadata": {
      "needs_background": "light"
     },
     "output_type": "display_data"
    }
   ],
   "source": [
    "bins = range(0, 200, 20) \n",
    "plt.hist(df[\"ATTACK\"], bins, histtype=\"bar\", rwidth=1, color=\"c\")\n",
    "plt.xlabel(\"Attack Power\")\n",
    "plt.ylabel(\"No. of Pokemons\")\n",
    "plt.plot()\n",
    "plt.axvline(df[\"ATTACK\"].mean(), linestyle=\"dashed\", color=\"r\")\n",
    "plt.show()"
   ]
  },
  {
   "cell_type": "code",
   "execution_count": 20,
   "metadata": {},
   "outputs": [
    {
     "data": {
      "application/vnd.plotly.v1+json": {
       "config": {
        "linkText": "Export to plot.ly",
        "plotlyServerURL": "https://plot.ly",
        "showLink": false
       },
       "data": [
        {
         "marker": {
          "color": "rgb(255,0,0)",
          "size": 8
         },
         "mode": "markers",
         "name": "Dragon",
         "text": [
          "Mega Charizard X",
          "Dratini",
          "Dragonair",
          "Dragonite",
          "Mega Ampharos",
          "Kingdra",
          "Mega Sceptile",
          "Vibrava",
          "Flygon",
          "Altaria",
          "Mega Altaria",
          "Bagon",
          "Shelgon",
          "Salamence",
          "Mega Salamence",
          "Latias",
          "Mega Latias",
          "Latios",
          "Mega Latios",
          "Rayquaza",
          "Mega Rayquaza",
          "Gible",
          "Gabite",
          "Garchomp",
          "Mega Garchomp",
          "Dialga",
          "Palkia",
          "GiratinaAltered Forme",
          "GiratinaOrigin Forme",
          "Axew",
          "Fraxure",
          "Haxorus",
          "Druddigon",
          "Deino",
          "Zweilous",
          "Hydreigon",
          "Reshiram",
          "Zekrom",
          "Kyurem",
          "KyuremBlack Kyurem",
          "KyuremWhite Kyurem",
          "Dragalge",
          "Tyrunt",
          "Tyrantrum",
          "Goomy",
          "Sliggoo",
          "Goodra",
          "Noibat",
          "Noivern",
          "Zygarde50% Forme"
         ],
         "type": "scatter",
         "x": [
          130,
          64,
          84,
          134,
          95,
          95,
          110,
          70,
          100,
          70,
          110,
          75,
          95,
          135,
          145,
          80,
          100,
          90,
          130,
          150,
          180,
          70,
          90,
          130,
          170,
          120,
          120,
          100,
          120,
          87,
          117,
          147,
          120,
          65,
          85,
          105,
          120,
          150,
          130,
          170,
          120,
          75,
          89,
          121,
          50,
          75,
          100,
          30,
          70,
          100
         ],
         "y": [
          111,
          45,
          65,
          95,
          105,
          95,
          75,
          50,
          80,
          90,
          110,
          60,
          100,
          80,
          130,
          90,
          120,
          80,
          100,
          90,
          100,
          45,
          65,
          95,
          115,
          120,
          100,
          120,
          100,
          60,
          70,
          90,
          90,
          50,
          70,
          90,
          100,
          120,
          90,
          100,
          90,
          90,
          77,
          119,
          35,
          53,
          70,
          35,
          80,
          121
         ]
        },
        {
         "marker": {
          "color": "rgb(0,100,0)",
          "size": 8
         },
         "mode": "markers",
         "name": "Psychic",
         "text": [
          "Abra",
          "Kadabra",
          "Alakazam",
          "Mega Alakazam",
          "Slowpoke",
          "Slowbro",
          "Mega Slowbro",
          "Drowzee",
          "Hypno",
          "Exeggcute",
          "Exeggutor",
          "Starmie",
          "Mr. Mime",
          "Jynx",
          "Mewtwo",
          "Mega Mewtwo X",
          "Mega Mewtwo Y",
          "Mew",
          "Natu",
          "Xatu",
          "Espeon",
          "Slowking",
          "Unown",
          "Wobbuffet",
          "Girafarig",
          "Smoochum",
          "Lugia",
          "Celebi",
          "Ralts",
          "Kirlia",
          "Gardevoir",
          "Mega Gardevoir",
          "Meditite",
          "Medicham",
          "Mega Medicham",
          "Spoink",
          "Grumpig",
          "Lunatone",
          "Solrock",
          "Baltoy",
          "Claydol",
          "Chimecho",
          "Wynaut",
          "Beldum",
          "Metang",
          "Metagross",
          "Mega Metagross",
          "Latias",
          "Mega Latias",
          "Latios",
          "Mega Latios",
          "Jirachi",
          "DeoxysNormal Forme",
          "DeoxysAttack Forme",
          "DeoxysDefense Forme",
          "DeoxysSpeed Forme",
          "Chingling",
          "Bronzor",
          "Bronzong",
          "Mime Jr.",
          "Gallade",
          "Mega Gallade",
          "Uxie",
          "Mesprit",
          "Azelf",
          "Cresselia",
          "Victini",
          "Munna",
          "Musharna",
          "Woobat",
          "Swoobat",
          "DarmanitanZen Mode",
          "Sigilyph",
          "Gothita",
          "Gothorita",
          "Gothitelle",
          "Solosis",
          "Duosion",
          "Reuniclus",
          "Elgyem",
          "Beheeyem",
          "MeloettaAria Forme",
          "Delphox",
          "Espurr",
          "MeowsticMale",
          "MeowsticFemale",
          "Inkay",
          "Malamar",
          "HoopaHoopa Confined",
          "HoopaHoopa Unbound"
         ],
         "type": "scatter",
         "x": [
          20,
          35,
          50,
          50,
          65,
          75,
          75,
          48,
          73,
          40,
          95,
          75,
          45,
          50,
          110,
          190,
          150,
          100,
          50,
          75,
          65,
          75,
          72,
          33,
          80,
          30,
          90,
          100,
          25,
          35,
          65,
          85,
          40,
          60,
          100,
          25,
          45,
          55,
          95,
          40,
          70,
          50,
          23,
          55,
          75,
          135,
          145,
          80,
          100,
          90,
          130,
          100,
          150,
          180,
          70,
          95,
          30,
          24,
          89,
          25,
          125,
          165,
          75,
          105,
          125,
          70,
          100,
          25,
          55,
          45,
          57,
          30,
          58,
          30,
          45,
          55,
          30,
          40,
          65,
          55,
          75,
          77,
          69,
          48,
          48,
          48,
          54,
          92,
          110,
          160
         ],
         "y": [
          15,
          30,
          45,
          65,
          65,
          110,
          180,
          45,
          70,
          80,
          85,
          85,
          65,
          35,
          90,
          100,
          70,
          100,
          45,
          70,
          60,
          80,
          48,
          58,
          65,
          15,
          130,
          100,
          25,
          35,
          65,
          65,
          55,
          75,
          85,
          35,
          65,
          65,
          85,
          55,
          105,
          70,
          48,
          80,
          100,
          130,
          150,
          90,
          120,
          80,
          100,
          100,
          50,
          20,
          160,
          90,
          50,
          86,
          116,
          45,
          65,
          95,
          130,
          105,
          70,
          120,
          100,
          45,
          85,
          43,
          55,
          105,
          80,
          50,
          70,
          95,
          40,
          50,
          75,
          55,
          75,
          77,
          72,
          54,
          76,
          76,
          53,
          88,
          60,
          60
         ]
        }
       ],
       "layout": {
        "template": {
         "data": {
          "bar": [
           {
            "error_x": {
             "color": "#2a3f5f"
            },
            "error_y": {
             "color": "#2a3f5f"
            },
            "marker": {
             "line": {
              "color": "#E5ECF6",
              "width": 0.5
             }
            },
            "type": "bar"
           }
          ],
          "barpolar": [
           {
            "marker": {
             "line": {
              "color": "#E5ECF6",
              "width": 0.5
             }
            },
            "type": "barpolar"
           }
          ],
          "carpet": [
           {
            "aaxis": {
             "endlinecolor": "#2a3f5f",
             "gridcolor": "white",
             "linecolor": "white",
             "minorgridcolor": "white",
             "startlinecolor": "#2a3f5f"
            },
            "baxis": {
             "endlinecolor": "#2a3f5f",
             "gridcolor": "white",
             "linecolor": "white",
             "minorgridcolor": "white",
             "startlinecolor": "#2a3f5f"
            },
            "type": "carpet"
           }
          ],
          "choropleth": [
           {
            "colorbar": {
             "outlinewidth": 0,
             "ticks": ""
            },
            "type": "choropleth"
           }
          ],
          "contour": [
           {
            "colorbar": {
             "outlinewidth": 0,
             "ticks": ""
            },
            "colorscale": [
             [
              0,
              "#0d0887"
             ],
             [
              0.1111111111111111,
              "#46039f"
             ],
             [
              0.2222222222222222,
              "#7201a8"
             ],
             [
              0.3333333333333333,
              "#9c179e"
             ],
             [
              0.4444444444444444,
              "#bd3786"
             ],
             [
              0.5555555555555556,
              "#d8576b"
             ],
             [
              0.6666666666666666,
              "#ed7953"
             ],
             [
              0.7777777777777778,
              "#fb9f3a"
             ],
             [
              0.8888888888888888,
              "#fdca26"
             ],
             [
              1,
              "#f0f921"
             ]
            ],
            "type": "contour"
           }
          ],
          "contourcarpet": [
           {
            "colorbar": {
             "outlinewidth": 0,
             "ticks": ""
            },
            "type": "contourcarpet"
           }
          ],
          "heatmap": [
           {
            "colorbar": {
             "outlinewidth": 0,
             "ticks": ""
            },
            "colorscale": [
             [
              0,
              "#0d0887"
             ],
             [
              0.1111111111111111,
              "#46039f"
             ],
             [
              0.2222222222222222,
              "#7201a8"
             ],
             [
              0.3333333333333333,
              "#9c179e"
             ],
             [
              0.4444444444444444,
              "#bd3786"
             ],
             [
              0.5555555555555556,
              "#d8576b"
             ],
             [
              0.6666666666666666,
              "#ed7953"
             ],
             [
              0.7777777777777778,
              "#fb9f3a"
             ],
             [
              0.8888888888888888,
              "#fdca26"
             ],
             [
              1,
              "#f0f921"
             ]
            ],
            "type": "heatmap"
           }
          ],
          "heatmapgl": [
           {
            "colorbar": {
             "outlinewidth": 0,
             "ticks": ""
            },
            "colorscale": [
             [
              0,
              "#0d0887"
             ],
             [
              0.1111111111111111,
              "#46039f"
             ],
             [
              0.2222222222222222,
              "#7201a8"
             ],
             [
              0.3333333333333333,
              "#9c179e"
             ],
             [
              0.4444444444444444,
              "#bd3786"
             ],
             [
              0.5555555555555556,
              "#d8576b"
             ],
             [
              0.6666666666666666,
              "#ed7953"
             ],
             [
              0.7777777777777778,
              "#fb9f3a"
             ],
             [
              0.8888888888888888,
              "#fdca26"
             ],
             [
              1,
              "#f0f921"
             ]
            ],
            "type": "heatmapgl"
           }
          ],
          "histogram": [
           {
            "marker": {
             "colorbar": {
              "outlinewidth": 0,
              "ticks": ""
             }
            },
            "type": "histogram"
           }
          ],
          "histogram2d": [
           {
            "colorbar": {
             "outlinewidth": 0,
             "ticks": ""
            },
            "colorscale": [
             [
              0,
              "#0d0887"
             ],
             [
              0.1111111111111111,
              "#46039f"
             ],
             [
              0.2222222222222222,
              "#7201a8"
             ],
             [
              0.3333333333333333,
              "#9c179e"
             ],
             [
              0.4444444444444444,
              "#bd3786"
             ],
             [
              0.5555555555555556,
              "#d8576b"
             ],
             [
              0.6666666666666666,
              "#ed7953"
             ],
             [
              0.7777777777777778,
              "#fb9f3a"
             ],
             [
              0.8888888888888888,
              "#fdca26"
             ],
             [
              1,
              "#f0f921"
             ]
            ],
            "type": "histogram2d"
           }
          ],
          "histogram2dcontour": [
           {
            "colorbar": {
             "outlinewidth": 0,
             "ticks": ""
            },
            "colorscale": [
             [
              0,
              "#0d0887"
             ],
             [
              0.1111111111111111,
              "#46039f"
             ],
             [
              0.2222222222222222,
              "#7201a8"
             ],
             [
              0.3333333333333333,
              "#9c179e"
             ],
             [
              0.4444444444444444,
              "#bd3786"
             ],
             [
              0.5555555555555556,
              "#d8576b"
             ],
             [
              0.6666666666666666,
              "#ed7953"
             ],
             [
              0.7777777777777778,
              "#fb9f3a"
             ],
             [
              0.8888888888888888,
              "#fdca26"
             ],
             [
              1,
              "#f0f921"
             ]
            ],
            "type": "histogram2dcontour"
           }
          ],
          "mesh3d": [
           {
            "colorbar": {
             "outlinewidth": 0,
             "ticks": ""
            },
            "type": "mesh3d"
           }
          ],
          "parcoords": [
           {
            "line": {
             "colorbar": {
              "outlinewidth": 0,
              "ticks": ""
             }
            },
            "type": "parcoords"
           }
          ],
          "pie": [
           {
            "automargin": true,
            "type": "pie"
           }
          ],
          "scatter": [
           {
            "marker": {
             "colorbar": {
              "outlinewidth": 0,
              "ticks": ""
             }
            },
            "type": "scatter"
           }
          ],
          "scatter3d": [
           {
            "line": {
             "colorbar": {
              "outlinewidth": 0,
              "ticks": ""
             }
            },
            "marker": {
             "colorbar": {
              "outlinewidth": 0,
              "ticks": ""
             }
            },
            "type": "scatter3d"
           }
          ],
          "scattercarpet": [
           {
            "marker": {
             "colorbar": {
              "outlinewidth": 0,
              "ticks": ""
             }
            },
            "type": "scattercarpet"
           }
          ],
          "scattergeo": [
           {
            "marker": {
             "colorbar": {
              "outlinewidth": 0,
              "ticks": ""
             }
            },
            "type": "scattergeo"
           }
          ],
          "scattergl": [
           {
            "marker": {
             "colorbar": {
              "outlinewidth": 0,
              "ticks": ""
             }
            },
            "type": "scattergl"
           }
          ],
          "scattermapbox": [
           {
            "marker": {
             "colorbar": {
              "outlinewidth": 0,
              "ticks": ""
             }
            },
            "type": "scattermapbox"
           }
          ],
          "scatterpolar": [
           {
            "marker": {
             "colorbar": {
              "outlinewidth": 0,
              "ticks": ""
             }
            },
            "type": "scatterpolar"
           }
          ],
          "scatterpolargl": [
           {
            "marker": {
             "colorbar": {
              "outlinewidth": 0,
              "ticks": ""
             }
            },
            "type": "scatterpolargl"
           }
          ],
          "scatterternary": [
           {
            "marker": {
             "colorbar": {
              "outlinewidth": 0,
              "ticks": ""
             }
            },
            "type": "scatterternary"
           }
          ],
          "surface": [
           {
            "colorbar": {
             "outlinewidth": 0,
             "ticks": ""
            },
            "colorscale": [
             [
              0,
              "#0d0887"
             ],
             [
              0.1111111111111111,
              "#46039f"
             ],
             [
              0.2222222222222222,
              "#7201a8"
             ],
             [
              0.3333333333333333,
              "#9c179e"
             ],
             [
              0.4444444444444444,
              "#bd3786"
             ],
             [
              0.5555555555555556,
              "#d8576b"
             ],
             [
              0.6666666666666666,
              "#ed7953"
             ],
             [
              0.7777777777777778,
              "#fb9f3a"
             ],
             [
              0.8888888888888888,
              "#fdca26"
             ],
             [
              1,
              "#f0f921"
             ]
            ],
            "type": "surface"
           }
          ],
          "table": [
           {
            "cells": {
             "fill": {
              "color": "#EBF0F8"
             },
             "line": {
              "color": "white"
             }
            },
            "header": {
             "fill": {
              "color": "#C8D4E3"
             },
             "line": {
              "color": "white"
             }
            },
            "type": "table"
           }
          ]
         },
         "layout": {
          "annotationdefaults": {
           "arrowcolor": "#2a3f5f",
           "arrowhead": 0,
           "arrowwidth": 1
          },
          "coloraxis": {
           "colorbar": {
            "outlinewidth": 0,
            "ticks": ""
           }
          },
          "colorscale": {
           "diverging": [
            [
             0,
             "#8e0152"
            ],
            [
             0.1,
             "#c51b7d"
            ],
            [
             0.2,
             "#de77ae"
            ],
            [
             0.3,
             "#f1b6da"
            ],
            [
             0.4,
             "#fde0ef"
            ],
            [
             0.5,
             "#f7f7f7"
            ],
            [
             0.6,
             "#e6f5d0"
            ],
            [
             0.7,
             "#b8e186"
            ],
            [
             0.8,
             "#7fbc41"
            ],
            [
             0.9,
             "#4d9221"
            ],
            [
             1,
             "#276419"
            ]
           ],
           "sequential": [
            [
             0,
             "#0d0887"
            ],
            [
             0.1111111111111111,
             "#46039f"
            ],
            [
             0.2222222222222222,
             "#7201a8"
            ],
            [
             0.3333333333333333,
             "#9c179e"
            ],
            [
             0.4444444444444444,
             "#bd3786"
            ],
            [
             0.5555555555555556,
             "#d8576b"
            ],
            [
             0.6666666666666666,
             "#ed7953"
            ],
            [
             0.7777777777777778,
             "#fb9f3a"
            ],
            [
             0.8888888888888888,
             "#fdca26"
            ],
            [
             1,
             "#f0f921"
            ]
           ],
           "sequentialminus": [
            [
             0,
             "#0d0887"
            ],
            [
             0.1111111111111111,
             "#46039f"
            ],
            [
             0.2222222222222222,
             "#7201a8"
            ],
            [
             0.3333333333333333,
             "#9c179e"
            ],
            [
             0.4444444444444444,
             "#bd3786"
            ],
            [
             0.5555555555555556,
             "#d8576b"
            ],
            [
             0.6666666666666666,
             "#ed7953"
            ],
            [
             0.7777777777777778,
             "#fb9f3a"
            ],
            [
             0.8888888888888888,
             "#fdca26"
            ],
            [
             1,
             "#f0f921"
            ]
           ]
          },
          "colorway": [
           "#636efa",
           "#EF553B",
           "#00cc96",
           "#ab63fa",
           "#FFA15A",
           "#19d3f3",
           "#FF6692",
           "#B6E880",
           "#FF97FF",
           "#FECB52"
          ],
          "font": {
           "color": "#2a3f5f"
          },
          "geo": {
           "bgcolor": "white",
           "lakecolor": "white",
           "landcolor": "#E5ECF6",
           "showlakes": true,
           "showland": true,
           "subunitcolor": "white"
          },
          "hoverlabel": {
           "align": "left"
          },
          "hovermode": "closest",
          "mapbox": {
           "style": "light"
          },
          "paper_bgcolor": "white",
          "plot_bgcolor": "#E5ECF6",
          "polar": {
           "angularaxis": {
            "gridcolor": "white",
            "linecolor": "white",
            "ticks": ""
           },
           "bgcolor": "#E5ECF6",
           "radialaxis": {
            "gridcolor": "white",
            "linecolor": "white",
            "ticks": ""
           }
          },
          "scene": {
           "xaxis": {
            "backgroundcolor": "#E5ECF6",
            "gridcolor": "white",
            "gridwidth": 2,
            "linecolor": "white",
            "showbackground": true,
            "ticks": "",
            "zerolinecolor": "white"
           },
           "yaxis": {
            "backgroundcolor": "#E5ECF6",
            "gridcolor": "white",
            "gridwidth": 2,
            "linecolor": "white",
            "showbackground": true,
            "ticks": "",
            "zerolinecolor": "white"
           },
           "zaxis": {
            "backgroundcolor": "#E5ECF6",
            "gridcolor": "white",
            "gridwidth": 2,
            "linecolor": "white",
            "showbackground": true,
            "ticks": "",
            "zerolinecolor": "white"
           }
          },
          "shapedefaults": {
           "line": {
            "color": "#2a3f5f"
           }
          },
          "ternary": {
           "aaxis": {
            "gridcolor": "white",
            "linecolor": "white",
            "ticks": ""
           },
           "baxis": {
            "gridcolor": "white",
            "linecolor": "white",
            "ticks": ""
           },
           "bgcolor": "#E5ECF6",
           "caxis": {
            "gridcolor": "white",
            "linecolor": "white",
            "ticks": ""
           }
          },
          "title": {
           "x": 0.05
          },
          "xaxis": {
           "automargin": true,
           "gridcolor": "white",
           "linecolor": "white",
           "ticks": "",
           "title": {
            "standoff": 15
           },
           "zerolinecolor": "white",
           "zerolinewidth": 2
          },
          "yaxis": {
           "automargin": true,
           "gridcolor": "white",
           "linecolor": "white",
           "ticks": "",
           "title": {
            "standoff": 15
           },
           "zerolinecolor": "white",
           "zerolinewidth": 2
          }
         }
        },
        "title": {
         "text": "Psychic vs Dragon"
        },
        "xaxis": {
         "title": {
          "text": "Attack"
         }
        },
        "yaxis": {
         "title": {
          "text": "Defence"
         }
        }
       }
      },
      "text/html": [
       "<div>                            <div id=\"b66668db-df1d-4cec-90b7-86ed4b94de1c\" class=\"plotly-graph-div\" style=\"height:525px; width:100%;\"></div>            <script type=\"text/javascript\">                require([\"plotly\"], function(Plotly) {                    window.PLOTLYENV=window.PLOTLYENV || {};                                    if (document.getElementById(\"b66668db-df1d-4cec-90b7-86ed4b94de1c\")) {                    Plotly.newPlot(                        \"b66668db-df1d-4cec-90b7-86ed4b94de1c\",                        [{\"marker\": {\"color\": \"rgb(255,0,0)\", \"size\": 8}, \"mode\": \"markers\", \"name\": \"Dragon\", \"text\": [\"Mega Charizard X\", \"Dratini\", \"Dragonair\", \"Dragonite\", \"Mega Ampharos\", \"Kingdra\", \"Mega Sceptile\", \"Vibrava\", \"Flygon\", \"Altaria\", \"Mega Altaria\", \"Bagon\", \"Shelgon\", \"Salamence\", \"Mega Salamence\", \"Latias\", \"Mega Latias\", \"Latios\", \"Mega Latios\", \"Rayquaza\", \"Mega Rayquaza\", \"Gible\", \"Gabite\", \"Garchomp\", \"Mega Garchomp\", \"Dialga\", \"Palkia\", \"GiratinaAltered Forme\", \"GiratinaOrigin Forme\", \"Axew\", \"Fraxure\", \"Haxorus\", \"Druddigon\", \"Deino\", \"Zweilous\", \"Hydreigon\", \"Reshiram\", \"Zekrom\", \"Kyurem\", \"KyuremBlack Kyurem\", \"KyuremWhite Kyurem\", \"Dragalge\", \"Tyrunt\", \"Tyrantrum\", \"Goomy\", \"Sliggoo\", \"Goodra\", \"Noibat\", \"Noivern\", \"Zygarde50% Forme\"], \"type\": \"scatter\", \"x\": [130, 64, 84, 134, 95, 95, 110, 70, 100, 70, 110, 75, 95, 135, 145, 80, 100, 90, 130, 150, 180, 70, 90, 130, 170, 120, 120, 100, 120, 87, 117, 147, 120, 65, 85, 105, 120, 150, 130, 170, 120, 75, 89, 121, 50, 75, 100, 30, 70, 100], \"y\": [111, 45, 65, 95, 105, 95, 75, 50, 80, 90, 110, 60, 100, 80, 130, 90, 120, 80, 100, 90, 100, 45, 65, 95, 115, 120, 100, 120, 100, 60, 70, 90, 90, 50, 70, 90, 100, 120, 90, 100, 90, 90, 77, 119, 35, 53, 70, 35, 80, 121]}, {\"marker\": {\"color\": \"rgb(0,100,0)\", \"size\": 8}, \"mode\": \"markers\", \"name\": \"Psychic\", \"text\": [\"Abra\", \"Kadabra\", \"Alakazam\", \"Mega Alakazam\", \"Slowpoke\", \"Slowbro\", \"Mega Slowbro\", \"Drowzee\", \"Hypno\", \"Exeggcute\", \"Exeggutor\", \"Starmie\", \"Mr. Mime\", \"Jynx\", \"Mewtwo\", \"Mega Mewtwo X\", \"Mega Mewtwo Y\", \"Mew\", \"Natu\", \"Xatu\", \"Espeon\", \"Slowking\", \"Unown\", \"Wobbuffet\", \"Girafarig\", \"Smoochum\", \"Lugia\", \"Celebi\", \"Ralts\", \"Kirlia\", \"Gardevoir\", \"Mega Gardevoir\", \"Meditite\", \"Medicham\", \"Mega Medicham\", \"Spoink\", \"Grumpig\", \"Lunatone\", \"Solrock\", \"Baltoy\", \"Claydol\", \"Chimecho\", \"Wynaut\", \"Beldum\", \"Metang\", \"Metagross\", \"Mega Metagross\", \"Latias\", \"Mega Latias\", \"Latios\", \"Mega Latios\", \"Jirachi\", \"DeoxysNormal Forme\", \"DeoxysAttack Forme\", \"DeoxysDefense Forme\", \"DeoxysSpeed Forme\", \"Chingling\", \"Bronzor\", \"Bronzong\", \"Mime Jr.\", \"Gallade\", \"Mega Gallade\", \"Uxie\", \"Mesprit\", \"Azelf\", \"Cresselia\", \"Victini\", \"Munna\", \"Musharna\", \"Woobat\", \"Swoobat\", \"DarmanitanZen Mode\", \"Sigilyph\", \"Gothita\", \"Gothorita\", \"Gothitelle\", \"Solosis\", \"Duosion\", \"Reuniclus\", \"Elgyem\", \"Beheeyem\", \"MeloettaAria Forme\", \"Delphox\", \"Espurr\", \"MeowsticMale\", \"MeowsticFemale\", \"Inkay\", \"Malamar\", \"HoopaHoopa Confined\", \"HoopaHoopa Unbound\"], \"type\": \"scatter\", \"x\": [20, 35, 50, 50, 65, 75, 75, 48, 73, 40, 95, 75, 45, 50, 110, 190, 150, 100, 50, 75, 65, 75, 72, 33, 80, 30, 90, 100, 25, 35, 65, 85, 40, 60, 100, 25, 45, 55, 95, 40, 70, 50, 23, 55, 75, 135, 145, 80, 100, 90, 130, 100, 150, 180, 70, 95, 30, 24, 89, 25, 125, 165, 75, 105, 125, 70, 100, 25, 55, 45, 57, 30, 58, 30, 45, 55, 30, 40, 65, 55, 75, 77, 69, 48, 48, 48, 54, 92, 110, 160], \"y\": [15, 30, 45, 65, 65, 110, 180, 45, 70, 80, 85, 85, 65, 35, 90, 100, 70, 100, 45, 70, 60, 80, 48, 58, 65, 15, 130, 100, 25, 35, 65, 65, 55, 75, 85, 35, 65, 65, 85, 55, 105, 70, 48, 80, 100, 130, 150, 90, 120, 80, 100, 100, 50, 20, 160, 90, 50, 86, 116, 45, 65, 95, 130, 105, 70, 120, 100, 45, 85, 43, 55, 105, 80, 50, 70, 95, 40, 50, 75, 55, 75, 77, 72, 54, 76, 76, 53, 88, 60, 60]}],                        {\"template\": {\"data\": {\"bar\": [{\"error_x\": {\"color\": \"#2a3f5f\"}, \"error_y\": {\"color\": \"#2a3f5f\"}, \"marker\": {\"line\": {\"color\": \"#E5ECF6\", \"width\": 0.5}}, \"type\": \"bar\"}], \"barpolar\": [{\"marker\": {\"line\": {\"color\": \"#E5ECF6\", \"width\": 0.5}}, \"type\": \"barpolar\"}], \"carpet\": [{\"aaxis\": {\"endlinecolor\": \"#2a3f5f\", \"gridcolor\": \"white\", \"linecolor\": \"white\", \"minorgridcolor\": \"white\", \"startlinecolor\": \"#2a3f5f\"}, \"baxis\": {\"endlinecolor\": \"#2a3f5f\", \"gridcolor\": \"white\", \"linecolor\": \"white\", \"minorgridcolor\": \"white\", \"startlinecolor\": \"#2a3f5f\"}, \"type\": \"carpet\"}], \"choropleth\": [{\"colorbar\": {\"outlinewidth\": 0, \"ticks\": \"\"}, \"type\": \"choropleth\"}], \"contour\": [{\"colorbar\": {\"outlinewidth\": 0, \"ticks\": \"\"}, \"colorscale\": [[0.0, \"#0d0887\"], [0.1111111111111111, \"#46039f\"], [0.2222222222222222, \"#7201a8\"], [0.3333333333333333, \"#9c179e\"], [0.4444444444444444, \"#bd3786\"], [0.5555555555555556, \"#d8576b\"], [0.6666666666666666, \"#ed7953\"], [0.7777777777777778, \"#fb9f3a\"], [0.8888888888888888, \"#fdca26\"], [1.0, \"#f0f921\"]], \"type\": \"contour\"}], \"contourcarpet\": [{\"colorbar\": {\"outlinewidth\": 0, \"ticks\": \"\"}, \"type\": \"contourcarpet\"}], \"heatmap\": [{\"colorbar\": {\"outlinewidth\": 0, \"ticks\": \"\"}, \"colorscale\": [[0.0, \"#0d0887\"], [0.1111111111111111, \"#46039f\"], [0.2222222222222222, \"#7201a8\"], [0.3333333333333333, \"#9c179e\"], [0.4444444444444444, \"#bd3786\"], [0.5555555555555556, \"#d8576b\"], [0.6666666666666666, \"#ed7953\"], [0.7777777777777778, \"#fb9f3a\"], [0.8888888888888888, \"#fdca26\"], [1.0, \"#f0f921\"]], \"type\": \"heatmap\"}], \"heatmapgl\": [{\"colorbar\": {\"outlinewidth\": 0, \"ticks\": \"\"}, \"colorscale\": [[0.0, \"#0d0887\"], [0.1111111111111111, \"#46039f\"], [0.2222222222222222, \"#7201a8\"], [0.3333333333333333, \"#9c179e\"], [0.4444444444444444, \"#bd3786\"], [0.5555555555555556, \"#d8576b\"], [0.6666666666666666, \"#ed7953\"], [0.7777777777777778, \"#fb9f3a\"], [0.8888888888888888, \"#fdca26\"], [1.0, \"#f0f921\"]], \"type\": \"heatmapgl\"}], \"histogram\": [{\"marker\": {\"colorbar\": {\"outlinewidth\": 0, \"ticks\": \"\"}}, \"type\": \"histogram\"}], \"histogram2d\": [{\"colorbar\": {\"outlinewidth\": 0, \"ticks\": \"\"}, \"colorscale\": [[0.0, \"#0d0887\"], [0.1111111111111111, \"#46039f\"], [0.2222222222222222, \"#7201a8\"], [0.3333333333333333, \"#9c179e\"], [0.4444444444444444, \"#bd3786\"], [0.5555555555555556, \"#d8576b\"], [0.6666666666666666, \"#ed7953\"], [0.7777777777777778, \"#fb9f3a\"], [0.8888888888888888, \"#fdca26\"], [1.0, \"#f0f921\"]], \"type\": \"histogram2d\"}], \"histogram2dcontour\": [{\"colorbar\": {\"outlinewidth\": 0, \"ticks\": \"\"}, \"colorscale\": [[0.0, \"#0d0887\"], [0.1111111111111111, \"#46039f\"], [0.2222222222222222, \"#7201a8\"], [0.3333333333333333, \"#9c179e\"], [0.4444444444444444, \"#bd3786\"], [0.5555555555555556, \"#d8576b\"], [0.6666666666666666, \"#ed7953\"], [0.7777777777777778, \"#fb9f3a\"], [0.8888888888888888, \"#fdca26\"], [1.0, \"#f0f921\"]], \"type\": \"histogram2dcontour\"}], \"mesh3d\": [{\"colorbar\": {\"outlinewidth\": 0, \"ticks\": \"\"}, \"type\": \"mesh3d\"}], \"parcoords\": [{\"line\": {\"colorbar\": {\"outlinewidth\": 0, \"ticks\": \"\"}}, \"type\": \"parcoords\"}], \"pie\": [{\"automargin\": true, \"type\": \"pie\"}], \"scatter\": [{\"marker\": {\"colorbar\": {\"outlinewidth\": 0, \"ticks\": \"\"}}, \"type\": \"scatter\"}], \"scatter3d\": [{\"line\": {\"colorbar\": {\"outlinewidth\": 0, \"ticks\": \"\"}}, \"marker\": {\"colorbar\": {\"outlinewidth\": 0, \"ticks\": \"\"}}, \"type\": \"scatter3d\"}], \"scattercarpet\": [{\"marker\": {\"colorbar\": {\"outlinewidth\": 0, \"ticks\": \"\"}}, \"type\": \"scattercarpet\"}], \"scattergeo\": [{\"marker\": {\"colorbar\": {\"outlinewidth\": 0, \"ticks\": \"\"}}, \"type\": \"scattergeo\"}], \"scattergl\": [{\"marker\": {\"colorbar\": {\"outlinewidth\": 0, \"ticks\": \"\"}}, \"type\": \"scattergl\"}], \"scattermapbox\": [{\"marker\": {\"colorbar\": {\"outlinewidth\": 0, \"ticks\": \"\"}}, \"type\": \"scattermapbox\"}], \"scatterpolar\": [{\"marker\": {\"colorbar\": {\"outlinewidth\": 0, \"ticks\": \"\"}}, \"type\": \"scatterpolar\"}], \"scatterpolargl\": [{\"marker\": {\"colorbar\": {\"outlinewidth\": 0, \"ticks\": \"\"}}, \"type\": \"scatterpolargl\"}], \"scatterternary\": [{\"marker\": {\"colorbar\": {\"outlinewidth\": 0, \"ticks\": \"\"}}, \"type\": \"scatterternary\"}], \"surface\": [{\"colorbar\": {\"outlinewidth\": 0, \"ticks\": \"\"}, \"colorscale\": [[0.0, \"#0d0887\"], [0.1111111111111111, \"#46039f\"], [0.2222222222222222, \"#7201a8\"], [0.3333333333333333, \"#9c179e\"], [0.4444444444444444, \"#bd3786\"], [0.5555555555555556, \"#d8576b\"], [0.6666666666666666, \"#ed7953\"], [0.7777777777777778, \"#fb9f3a\"], [0.8888888888888888, \"#fdca26\"], [1.0, \"#f0f921\"]], \"type\": \"surface\"}], \"table\": [{\"cells\": {\"fill\": {\"color\": \"#EBF0F8\"}, \"line\": {\"color\": \"white\"}}, \"header\": {\"fill\": {\"color\": \"#C8D4E3\"}, \"line\": {\"color\": \"white\"}}, \"type\": \"table\"}]}, \"layout\": {\"annotationdefaults\": {\"arrowcolor\": \"#2a3f5f\", \"arrowhead\": 0, \"arrowwidth\": 1}, \"coloraxis\": {\"colorbar\": {\"outlinewidth\": 0, \"ticks\": \"\"}}, \"colorscale\": {\"diverging\": [[0, \"#8e0152\"], [0.1, \"#c51b7d\"], [0.2, \"#de77ae\"], [0.3, \"#f1b6da\"], [0.4, \"#fde0ef\"], [0.5, \"#f7f7f7\"], [0.6, \"#e6f5d0\"], [0.7, \"#b8e186\"], [0.8, \"#7fbc41\"], [0.9, \"#4d9221\"], [1, \"#276419\"]], \"sequential\": [[0.0, \"#0d0887\"], [0.1111111111111111, \"#46039f\"], [0.2222222222222222, \"#7201a8\"], [0.3333333333333333, \"#9c179e\"], [0.4444444444444444, \"#bd3786\"], [0.5555555555555556, \"#d8576b\"], [0.6666666666666666, \"#ed7953\"], [0.7777777777777778, \"#fb9f3a\"], [0.8888888888888888, \"#fdca26\"], [1.0, \"#f0f921\"]], \"sequentialminus\": [[0.0, \"#0d0887\"], [0.1111111111111111, \"#46039f\"], [0.2222222222222222, \"#7201a8\"], [0.3333333333333333, \"#9c179e\"], [0.4444444444444444, \"#bd3786\"], [0.5555555555555556, \"#d8576b\"], [0.6666666666666666, \"#ed7953\"], [0.7777777777777778, \"#fb9f3a\"], [0.8888888888888888, \"#fdca26\"], [1.0, \"#f0f921\"]]}, \"colorway\": [\"#636efa\", \"#EF553B\", \"#00cc96\", \"#ab63fa\", \"#FFA15A\", \"#19d3f3\", \"#FF6692\", \"#B6E880\", \"#FF97FF\", \"#FECB52\"], \"font\": {\"color\": \"#2a3f5f\"}, \"geo\": {\"bgcolor\": \"white\", \"lakecolor\": \"white\", \"landcolor\": \"#E5ECF6\", \"showlakes\": true, \"showland\": true, \"subunitcolor\": \"white\"}, \"hoverlabel\": {\"align\": \"left\"}, \"hovermode\": \"closest\", \"mapbox\": {\"style\": \"light\"}, \"paper_bgcolor\": \"white\", \"plot_bgcolor\": \"#E5ECF6\", \"polar\": {\"angularaxis\": {\"gridcolor\": \"white\", \"linecolor\": \"white\", \"ticks\": \"\"}, \"bgcolor\": \"#E5ECF6\", \"radialaxis\": {\"gridcolor\": \"white\", \"linecolor\": \"white\", \"ticks\": \"\"}}, \"scene\": {\"xaxis\": {\"backgroundcolor\": \"#E5ECF6\", \"gridcolor\": \"white\", \"gridwidth\": 2, \"linecolor\": \"white\", \"showbackground\": true, \"ticks\": \"\", \"zerolinecolor\": \"white\"}, \"yaxis\": {\"backgroundcolor\": \"#E5ECF6\", \"gridcolor\": \"white\", \"gridwidth\": 2, \"linecolor\": \"white\", \"showbackground\": true, \"ticks\": \"\", \"zerolinecolor\": \"white\"}, \"zaxis\": {\"backgroundcolor\": \"#E5ECF6\", \"gridcolor\": \"white\", \"gridwidth\": 2, \"linecolor\": \"white\", \"showbackground\": true, \"ticks\": \"\", \"zerolinecolor\": \"white\"}}, \"shapedefaults\": {\"line\": {\"color\": \"#2a3f5f\"}}, \"ternary\": {\"aaxis\": {\"gridcolor\": \"white\", \"linecolor\": \"white\", \"ticks\": \"\"}, \"baxis\": {\"gridcolor\": \"white\", \"linecolor\": \"white\", \"ticks\": \"\"}, \"bgcolor\": \"#E5ECF6\", \"caxis\": {\"gridcolor\": \"white\", \"linecolor\": \"white\", \"ticks\": \"\"}}, \"title\": {\"x\": 0.05}, \"xaxis\": {\"automargin\": true, \"gridcolor\": \"white\", \"linecolor\": \"white\", \"ticks\": \"\", \"title\": {\"standoff\": 15}, \"zerolinecolor\": \"white\", \"zerolinewidth\": 2}, \"yaxis\": {\"automargin\": true, \"gridcolor\": \"white\", \"linecolor\": \"white\", \"ticks\": \"\", \"title\": {\"standoff\": 15}, \"zerolinecolor\": \"white\", \"zerolinewidth\": 2}}}, \"title\": {\"text\": \"Psychic vs Dragon\"}, \"xaxis\": {\"title\": {\"text\": \"Attack\"}}, \"yaxis\": {\"title\": {\"text\": \"Defence\"}}},                        {\"responsive\": true}                    ).then(function(){\n",
       "                            \n",
       "var gd = document.getElementById('b66668db-df1d-4cec-90b7-86ed4b94de1c');\n",
       "var x = new MutationObserver(function (mutations, observer) {{\n",
       "        var display = window.getComputedStyle(gd).display;\n",
       "        if (!display || display === 'none') {{\n",
       "            console.log([gd, 'removed!']);\n",
       "            Plotly.purge(gd);\n",
       "            observer.disconnect();\n",
       "        }}\n",
       "}});\n",
       "\n",
       "// Listen for the removal of the full notebook cells\n",
       "var notebookContainer = gd.closest('#notebook-container');\n",
       "if (notebookContainer) {{\n",
       "    x.observe(notebookContainer, {childList: true});\n",
       "}}\n",
       "\n",
       "// Listen for the clearing of the current output cell\n",
       "var outputEl = gd.closest('.output');\n",
       "if (outputEl) {{\n",
       "    x.observe(outputEl, {childList: true});\n",
       "}}\n",
       "\n",
       "                        })                };                });            </script>        </div>"
      ]
     },
     "metadata": {},
     "output_type": "display_data"
    }
   ],
   "source": [
    "dragon = df[(df[\"TYPE 1\"] == \"Dragon\") | (df[\"TYPE 2\"] == \"Dragon\")] \n",
    "psychic = df[(df[\"TYPE 1\"] == \"Psychic\") | (df[\"TYPE 2\"] == \"Psychic\")] \n",
    "layout = go.Layout(title=\"Psychic vs Dragon\",\n",
    "                   yaxis=dict(title=\"Defence\"),xaxis=dict(title=\"Attack\"))\n",
    "trace0 = go.Scatter(x=dragon.ATTACK, y=dragon.DEFENSE, mode=\"markers\",\n",
    "    name=\"Dragon\",marker = dict(color=\"rgb(255,0,0)\", size=8), text=dragon.index)\n",
    "trace1 = go.Scatter(x=psychic.ATTACK, y=psychic.DEFENSE, mode=\"markers\",\n",
    "    name=\"Psychic\",marker = dict(color=\"rgb(0,100,0)\", size=8), text=psychic.index)\n",
    "fig = go.Figure(data=[trace0, trace1], layout=layout)\n",
    "py.offline.iplot(fig)"
   ]
  },
  {
   "cell_type": "code",
   "execution_count": 21,
   "metadata": {},
   "outputs": [
    {
     "name": "stdout",
     "output_type": "stream",
     "text": [
      "The total types of Pokemons are :  ['Grass' 'Fire' 'Water' 'Bug' 'Normal' 'Poison' 'Electric' 'Ground'\n",
      " 'Fairy' 'Fighting' 'Psychic' 'Rock' 'Ghost' 'Ice' 'Dragon' 'Dark' 'Steel'\n",
      " 'Flying']\n"
     ]
    }
   ],
   "source": [
    "\n",
    "\n",
    "print(\"The total types of Pokemons are : \", df[\"TYPE 1\"].unique())\n",
    "\n"
   ]
  },
  {
   "cell_type": "code",
   "execution_count": 22,
   "metadata": {},
   "outputs": [
    {
     "data": {
      "application/vnd.plotly.v1+json": {
       "config": {
        "linkText": "Export to plot.ly",
        "plotlyServerURL": "https://plot.ly",
        "showLink": false
       },
       "data": [
        {
         "marker": {
          "color": "rgb(255,0,0)",
          "size": 8
         },
         "mode": "markers",
         "name": "Water",
         "text": [
          "Squirtle",
          "Wartortle",
          "Blastoise",
          "Mega Blastoise",
          "Psyduck",
          "Golduck",
          "Poliwag",
          "Poliwhirl",
          "Poliwrath",
          "Tentacool",
          "Tentacruel",
          "Slowpoke",
          "Slowbro",
          "Mega Slowbro",
          "Seel",
          "Dewgong",
          "Shellder",
          "Cloyster",
          "Krabby",
          "Kingler",
          "Horsea",
          "Seadra",
          "Goldeen",
          "Seaking",
          "Staryu",
          "Starmie",
          "Magikarp",
          "Gyarados",
          "Mega Gyarados",
          "Lapras",
          "Vaporeon",
          "Omanyte",
          "Omastar",
          "Kabuto",
          "Kabutops",
          "Totodile",
          "Croconaw",
          "Feraligatr",
          "Chinchou",
          "Lanturn",
          "Marill",
          "Azumarill",
          "Politoed",
          "Wooper",
          "Quagsire",
          "Slowking",
          "Qwilfish",
          "Corsola",
          "Remoraid",
          "Octillery",
          "Mantine",
          "Kingdra",
          "Suicune",
          "Mudkip",
          "Marshtomp",
          "Swampert",
          "Mega Swampert",
          "Lotad",
          "Lombre",
          "Ludicolo",
          "Wingull",
          "Pelipper",
          "Surskit",
          "Carvanha",
          "Sharpedo",
          "Mega Sharpedo",
          "Wailmer",
          "Wailord",
          "Barboach",
          "Whiscash",
          "Corphish",
          "Crawdaunt",
          "Feebas",
          "Milotic",
          "Spheal",
          "Sealeo",
          "Walrein",
          "Clamperl",
          "Huntail",
          "Gorebyss",
          "Relicanth",
          "Luvdisc",
          "Kyogre",
          "KyogrePrimal Kyogre",
          "Piplup",
          "Prinplup",
          "Empoleon",
          "Bibarel",
          "Buizel",
          "Floatzel",
          "Shellos",
          "Gastrodon",
          "Finneon",
          "Lumineon",
          "Mantyke",
          "RotomWash Rotom",
          "Palkia",
          "Phione",
          "Manaphy",
          "Oshawott",
          "Dewott",
          "Samurott",
          "Panpour",
          "Simipour",
          "Tympole",
          "Palpitoad",
          "Seismitoad",
          "Basculin",
          "Tirtouga",
          "Carracosta",
          "Ducklett",
          "Swanna",
          "Frillish",
          "Jellicent",
          "Alomomola",
          "KeldeoOrdinary Forme",
          "KeldeoResolute Forme",
          "Froakie",
          "Frogadier",
          "Greninja",
          "Binacle",
          "Barbaracle",
          "Skrelp",
          "Clauncher",
          "Clawitzer",
          "Volcanion"
         ],
         "type": "scatter",
         "x": [
          48,
          63,
          83,
          103,
          52,
          82,
          50,
          65,
          95,
          40,
          70,
          65,
          75,
          75,
          45,
          70,
          65,
          95,
          105,
          130,
          40,
          65,
          67,
          92,
          45,
          75,
          10,
          125,
          155,
          85,
          65,
          40,
          60,
          80,
          115,
          65,
          80,
          105,
          38,
          58,
          20,
          50,
          75,
          45,
          85,
          75,
          95,
          55,
          65,
          105,
          40,
          95,
          75,
          70,
          85,
          110,
          150,
          30,
          50,
          70,
          30,
          50,
          30,
          90,
          120,
          140,
          70,
          90,
          48,
          78,
          80,
          120,
          15,
          60,
          40,
          60,
          80,
          64,
          104,
          84,
          90,
          30,
          100,
          150,
          51,
          66,
          86,
          85,
          65,
          105,
          48,
          83,
          49,
          69,
          20,
          65,
          120,
          80,
          100,
          55,
          75,
          100,
          53,
          98,
          50,
          65,
          95,
          92,
          78,
          108,
          44,
          87,
          40,
          60,
          75,
          72,
          72,
          56,
          63,
          95,
          52,
          105,
          60,
          53,
          73,
          110
         ],
         "y": [
          65,
          80,
          100,
          120,
          48,
          78,
          40,
          65,
          95,
          35,
          65,
          65,
          110,
          180,
          55,
          80,
          100,
          180,
          90,
          115,
          70,
          95,
          60,
          65,
          55,
          85,
          55,
          79,
          109,
          80,
          60,
          100,
          125,
          90,
          105,
          64,
          80,
          100,
          38,
          58,
          50,
          80,
          75,
          45,
          85,
          80,
          75,
          85,
          35,
          75,
          70,
          95,
          115,
          50,
          70,
          90,
          110,
          30,
          50,
          70,
          30,
          100,
          32,
          20,
          40,
          70,
          35,
          45,
          43,
          73,
          65,
          85,
          20,
          79,
          50,
          70,
          90,
          85,
          105,
          105,
          130,
          55,
          90,
          90,
          53,
          68,
          88,
          60,
          35,
          55,
          48,
          68,
          56,
          76,
          50,
          107,
          100,
          80,
          100,
          45,
          60,
          85,
          48,
          63,
          40,
          55,
          75,
          65,
          103,
          133,
          50,
          63,
          50,
          70,
          80,
          90,
          90,
          40,
          52,
          67,
          67,
          115,
          60,
          62,
          88,
          120
         ]
        },
        {
         "marker": {
          "color": "rgb(0,100,0)",
          "size": 8
         },
         "mode": "markers",
         "name": "Bug",
         "text": [
          "Caterpie",
          "Metapod",
          "Butterfree",
          "Weedle",
          "Kakuna",
          "Beedrill",
          "Mega Beedrill",
          "Paras",
          "Parasect",
          "Venonat",
          "Venomoth",
          "Scyther",
          "Pinsir",
          "Mega Pinsir",
          "Ledyba",
          "Ledian",
          "Spinarak",
          "Ariados",
          "Yanma",
          "Pineco",
          "Forretress",
          "Scizor",
          "Mega Scizor",
          "Shuckle",
          "Heracross",
          "Mega Heracross",
          "Wurmple",
          "Silcoon",
          "Beautifly",
          "Cascoon",
          "Dustox",
          "Surskit",
          "Masquerain",
          "Nincada",
          "Ninjask",
          "Shedinja",
          "Volbeat",
          "Illumise",
          "Anorith",
          "Armaldo",
          "Kricketot",
          "Kricketune",
          "Burmy",
          "WormadamPlant Cloak",
          "WormadamSandy Cloak",
          "WormadamTrash Cloak",
          "Mothim",
          "Combee",
          "Vespiquen",
          "Skorupi",
          "Yanmega",
          "Sewaddle",
          "Swadloon",
          "Leavanny",
          "Venipede",
          "Whirlipede",
          "Scolipede",
          "Dwebble",
          "Crustle",
          "Karrablast",
          "Escavalier",
          "Joltik",
          "Galvantula",
          "Shelmet",
          "Accelgor",
          "Durant",
          "Larvesta",
          "Volcarona",
          "Genesect",
          "Scatterbug",
          "Spewpa",
          "Vivillon"
         ],
         "type": "scatter",
         "x": [
          30,
          20,
          45,
          35,
          25,
          90,
          150,
          70,
          95,
          55,
          65,
          110,
          125,
          155,
          20,
          35,
          60,
          90,
          65,
          65,
          90,
          130,
          150,
          10,
          125,
          185,
          45,
          35,
          70,
          35,
          50,
          30,
          60,
          45,
          90,
          90,
          73,
          47,
          95,
          125,
          25,
          85,
          29,
          59,
          79,
          69,
          94,
          30,
          80,
          50,
          76,
          53,
          63,
          103,
          45,
          55,
          100,
          65,
          95,
          75,
          135,
          47,
          77,
          40,
          70,
          109,
          85,
          60,
          120,
          35,
          22,
          52
         ],
         "y": [
          35,
          55,
          50,
          30,
          50,
          40,
          40,
          55,
          80,
          50,
          60,
          80,
          100,
          120,
          30,
          50,
          40,
          70,
          45,
          90,
          140,
          100,
          140,
          230,
          75,
          115,
          35,
          55,
          50,
          55,
          70,
          32,
          62,
          90,
          45,
          45,
          55,
          55,
          50,
          100,
          41,
          51,
          45,
          85,
          105,
          95,
          50,
          42,
          102,
          90,
          86,
          70,
          90,
          80,
          59,
          99,
          89,
          85,
          125,
          45,
          105,
          50,
          60,
          85,
          40,
          112,
          55,
          65,
          95,
          40,
          60,
          50
         ]
        }
       ],
       "layout": {
        "template": {
         "data": {
          "bar": [
           {
            "error_x": {
             "color": "#2a3f5f"
            },
            "error_y": {
             "color": "#2a3f5f"
            },
            "marker": {
             "line": {
              "color": "#E5ECF6",
              "width": 0.5
             }
            },
            "type": "bar"
           }
          ],
          "barpolar": [
           {
            "marker": {
             "line": {
              "color": "#E5ECF6",
              "width": 0.5
             }
            },
            "type": "barpolar"
           }
          ],
          "carpet": [
           {
            "aaxis": {
             "endlinecolor": "#2a3f5f",
             "gridcolor": "white",
             "linecolor": "white",
             "minorgridcolor": "white",
             "startlinecolor": "#2a3f5f"
            },
            "baxis": {
             "endlinecolor": "#2a3f5f",
             "gridcolor": "white",
             "linecolor": "white",
             "minorgridcolor": "white",
             "startlinecolor": "#2a3f5f"
            },
            "type": "carpet"
           }
          ],
          "choropleth": [
           {
            "colorbar": {
             "outlinewidth": 0,
             "ticks": ""
            },
            "type": "choropleth"
           }
          ],
          "contour": [
           {
            "colorbar": {
             "outlinewidth": 0,
             "ticks": ""
            },
            "colorscale": [
             [
              0,
              "#0d0887"
             ],
             [
              0.1111111111111111,
              "#46039f"
             ],
             [
              0.2222222222222222,
              "#7201a8"
             ],
             [
              0.3333333333333333,
              "#9c179e"
             ],
             [
              0.4444444444444444,
              "#bd3786"
             ],
             [
              0.5555555555555556,
              "#d8576b"
             ],
             [
              0.6666666666666666,
              "#ed7953"
             ],
             [
              0.7777777777777778,
              "#fb9f3a"
             ],
             [
              0.8888888888888888,
              "#fdca26"
             ],
             [
              1,
              "#f0f921"
             ]
            ],
            "type": "contour"
           }
          ],
          "contourcarpet": [
           {
            "colorbar": {
             "outlinewidth": 0,
             "ticks": ""
            },
            "type": "contourcarpet"
           }
          ],
          "heatmap": [
           {
            "colorbar": {
             "outlinewidth": 0,
             "ticks": ""
            },
            "colorscale": [
             [
              0,
              "#0d0887"
             ],
             [
              0.1111111111111111,
              "#46039f"
             ],
             [
              0.2222222222222222,
              "#7201a8"
             ],
             [
              0.3333333333333333,
              "#9c179e"
             ],
             [
              0.4444444444444444,
              "#bd3786"
             ],
             [
              0.5555555555555556,
              "#d8576b"
             ],
             [
              0.6666666666666666,
              "#ed7953"
             ],
             [
              0.7777777777777778,
              "#fb9f3a"
             ],
             [
              0.8888888888888888,
              "#fdca26"
             ],
             [
              1,
              "#f0f921"
             ]
            ],
            "type": "heatmap"
           }
          ],
          "heatmapgl": [
           {
            "colorbar": {
             "outlinewidth": 0,
             "ticks": ""
            },
            "colorscale": [
             [
              0,
              "#0d0887"
             ],
             [
              0.1111111111111111,
              "#46039f"
             ],
             [
              0.2222222222222222,
              "#7201a8"
             ],
             [
              0.3333333333333333,
              "#9c179e"
             ],
             [
              0.4444444444444444,
              "#bd3786"
             ],
             [
              0.5555555555555556,
              "#d8576b"
             ],
             [
              0.6666666666666666,
              "#ed7953"
             ],
             [
              0.7777777777777778,
              "#fb9f3a"
             ],
             [
              0.8888888888888888,
              "#fdca26"
             ],
             [
              1,
              "#f0f921"
             ]
            ],
            "type": "heatmapgl"
           }
          ],
          "histogram": [
           {
            "marker": {
             "colorbar": {
              "outlinewidth": 0,
              "ticks": ""
             }
            },
            "type": "histogram"
           }
          ],
          "histogram2d": [
           {
            "colorbar": {
             "outlinewidth": 0,
             "ticks": ""
            },
            "colorscale": [
             [
              0,
              "#0d0887"
             ],
             [
              0.1111111111111111,
              "#46039f"
             ],
             [
              0.2222222222222222,
              "#7201a8"
             ],
             [
              0.3333333333333333,
              "#9c179e"
             ],
             [
              0.4444444444444444,
              "#bd3786"
             ],
             [
              0.5555555555555556,
              "#d8576b"
             ],
             [
              0.6666666666666666,
              "#ed7953"
             ],
             [
              0.7777777777777778,
              "#fb9f3a"
             ],
             [
              0.8888888888888888,
              "#fdca26"
             ],
             [
              1,
              "#f0f921"
             ]
            ],
            "type": "histogram2d"
           }
          ],
          "histogram2dcontour": [
           {
            "colorbar": {
             "outlinewidth": 0,
             "ticks": ""
            },
            "colorscale": [
             [
              0,
              "#0d0887"
             ],
             [
              0.1111111111111111,
              "#46039f"
             ],
             [
              0.2222222222222222,
              "#7201a8"
             ],
             [
              0.3333333333333333,
              "#9c179e"
             ],
             [
              0.4444444444444444,
              "#bd3786"
             ],
             [
              0.5555555555555556,
              "#d8576b"
             ],
             [
              0.6666666666666666,
              "#ed7953"
             ],
             [
              0.7777777777777778,
              "#fb9f3a"
             ],
             [
              0.8888888888888888,
              "#fdca26"
             ],
             [
              1,
              "#f0f921"
             ]
            ],
            "type": "histogram2dcontour"
           }
          ],
          "mesh3d": [
           {
            "colorbar": {
             "outlinewidth": 0,
             "ticks": ""
            },
            "type": "mesh3d"
           }
          ],
          "parcoords": [
           {
            "line": {
             "colorbar": {
              "outlinewidth": 0,
              "ticks": ""
             }
            },
            "type": "parcoords"
           }
          ],
          "pie": [
           {
            "automargin": true,
            "type": "pie"
           }
          ],
          "scatter": [
           {
            "marker": {
             "colorbar": {
              "outlinewidth": 0,
              "ticks": ""
             }
            },
            "type": "scatter"
           }
          ],
          "scatter3d": [
           {
            "line": {
             "colorbar": {
              "outlinewidth": 0,
              "ticks": ""
             }
            },
            "marker": {
             "colorbar": {
              "outlinewidth": 0,
              "ticks": ""
             }
            },
            "type": "scatter3d"
           }
          ],
          "scattercarpet": [
           {
            "marker": {
             "colorbar": {
              "outlinewidth": 0,
              "ticks": ""
             }
            },
            "type": "scattercarpet"
           }
          ],
          "scattergeo": [
           {
            "marker": {
             "colorbar": {
              "outlinewidth": 0,
              "ticks": ""
             }
            },
            "type": "scattergeo"
           }
          ],
          "scattergl": [
           {
            "marker": {
             "colorbar": {
              "outlinewidth": 0,
              "ticks": ""
             }
            },
            "type": "scattergl"
           }
          ],
          "scattermapbox": [
           {
            "marker": {
             "colorbar": {
              "outlinewidth": 0,
              "ticks": ""
             }
            },
            "type": "scattermapbox"
           }
          ],
          "scatterpolar": [
           {
            "marker": {
             "colorbar": {
              "outlinewidth": 0,
              "ticks": ""
             }
            },
            "type": "scatterpolar"
           }
          ],
          "scatterpolargl": [
           {
            "marker": {
             "colorbar": {
              "outlinewidth": 0,
              "ticks": ""
             }
            },
            "type": "scatterpolargl"
           }
          ],
          "scatterternary": [
           {
            "marker": {
             "colorbar": {
              "outlinewidth": 0,
              "ticks": ""
             }
            },
            "type": "scatterternary"
           }
          ],
          "surface": [
           {
            "colorbar": {
             "outlinewidth": 0,
             "ticks": ""
            },
            "colorscale": [
             [
              0,
              "#0d0887"
             ],
             [
              0.1111111111111111,
              "#46039f"
             ],
             [
              0.2222222222222222,
              "#7201a8"
             ],
             [
              0.3333333333333333,
              "#9c179e"
             ],
             [
              0.4444444444444444,
              "#bd3786"
             ],
             [
              0.5555555555555556,
              "#d8576b"
             ],
             [
              0.6666666666666666,
              "#ed7953"
             ],
             [
              0.7777777777777778,
              "#fb9f3a"
             ],
             [
              0.8888888888888888,
              "#fdca26"
             ],
             [
              1,
              "#f0f921"
             ]
            ],
            "type": "surface"
           }
          ],
          "table": [
           {
            "cells": {
             "fill": {
              "color": "#EBF0F8"
             },
             "line": {
              "color": "white"
             }
            },
            "header": {
             "fill": {
              "color": "#C8D4E3"
             },
             "line": {
              "color": "white"
             }
            },
            "type": "table"
           }
          ]
         },
         "layout": {
          "annotationdefaults": {
           "arrowcolor": "#2a3f5f",
           "arrowhead": 0,
           "arrowwidth": 1
          },
          "coloraxis": {
           "colorbar": {
            "outlinewidth": 0,
            "ticks": ""
           }
          },
          "colorscale": {
           "diverging": [
            [
             0,
             "#8e0152"
            ],
            [
             0.1,
             "#c51b7d"
            ],
            [
             0.2,
             "#de77ae"
            ],
            [
             0.3,
             "#f1b6da"
            ],
            [
             0.4,
             "#fde0ef"
            ],
            [
             0.5,
             "#f7f7f7"
            ],
            [
             0.6,
             "#e6f5d0"
            ],
            [
             0.7,
             "#b8e186"
            ],
            [
             0.8,
             "#7fbc41"
            ],
            [
             0.9,
             "#4d9221"
            ],
            [
             1,
             "#276419"
            ]
           ],
           "sequential": [
            [
             0,
             "#0d0887"
            ],
            [
             0.1111111111111111,
             "#46039f"
            ],
            [
             0.2222222222222222,
             "#7201a8"
            ],
            [
             0.3333333333333333,
             "#9c179e"
            ],
            [
             0.4444444444444444,
             "#bd3786"
            ],
            [
             0.5555555555555556,
             "#d8576b"
            ],
            [
             0.6666666666666666,
             "#ed7953"
            ],
            [
             0.7777777777777778,
             "#fb9f3a"
            ],
            [
             0.8888888888888888,
             "#fdca26"
            ],
            [
             1,
             "#f0f921"
            ]
           ],
           "sequentialminus": [
            [
             0,
             "#0d0887"
            ],
            [
             0.1111111111111111,
             "#46039f"
            ],
            [
             0.2222222222222222,
             "#7201a8"
            ],
            [
             0.3333333333333333,
             "#9c179e"
            ],
            [
             0.4444444444444444,
             "#bd3786"
            ],
            [
             0.5555555555555556,
             "#d8576b"
            ],
            [
             0.6666666666666666,
             "#ed7953"
            ],
            [
             0.7777777777777778,
             "#fb9f3a"
            ],
            [
             0.8888888888888888,
             "#fdca26"
            ],
            [
             1,
             "#f0f921"
            ]
           ]
          },
          "colorway": [
           "#636efa",
           "#EF553B",
           "#00cc96",
           "#ab63fa",
           "#FFA15A",
           "#19d3f3",
           "#FF6692",
           "#B6E880",
           "#FF97FF",
           "#FECB52"
          ],
          "font": {
           "color": "#2a3f5f"
          },
          "geo": {
           "bgcolor": "white",
           "lakecolor": "white",
           "landcolor": "#E5ECF6",
           "showlakes": true,
           "showland": true,
           "subunitcolor": "white"
          },
          "hoverlabel": {
           "align": "left"
          },
          "hovermode": "closest",
          "mapbox": {
           "style": "light"
          },
          "paper_bgcolor": "white",
          "plot_bgcolor": "#E5ECF6",
          "polar": {
           "angularaxis": {
            "gridcolor": "white",
            "linecolor": "white",
            "ticks": ""
           },
           "bgcolor": "#E5ECF6",
           "radialaxis": {
            "gridcolor": "white",
            "linecolor": "white",
            "ticks": ""
           }
          },
          "scene": {
           "xaxis": {
            "backgroundcolor": "#E5ECF6",
            "gridcolor": "white",
            "gridwidth": 2,
            "linecolor": "white",
            "showbackground": true,
            "ticks": "",
            "zerolinecolor": "white"
           },
           "yaxis": {
            "backgroundcolor": "#E5ECF6",
            "gridcolor": "white",
            "gridwidth": 2,
            "linecolor": "white",
            "showbackground": true,
            "ticks": "",
            "zerolinecolor": "white"
           },
           "zaxis": {
            "backgroundcolor": "#E5ECF6",
            "gridcolor": "white",
            "gridwidth": 2,
            "linecolor": "white",
            "showbackground": true,
            "ticks": "",
            "zerolinecolor": "white"
           }
          },
          "shapedefaults": {
           "line": {
            "color": "#2a3f5f"
           }
          },
          "ternary": {
           "aaxis": {
            "gridcolor": "white",
            "linecolor": "white",
            "ticks": ""
           },
           "baxis": {
            "gridcolor": "white",
            "linecolor": "white",
            "ticks": ""
           },
           "bgcolor": "#E5ECF6",
           "caxis": {
            "gridcolor": "white",
            "linecolor": "white",
            "ticks": ""
           }
          },
          "title": {
           "x": 0.05
          },
          "xaxis": {
           "automargin": true,
           "gridcolor": "white",
           "linecolor": "white",
           "ticks": "",
           "title": {
            "standoff": 15
           },
           "zerolinecolor": "white",
           "zerolinewidth": 2
          },
          "yaxis": {
           "automargin": true,
           "gridcolor": "white",
           "linecolor": "white",
           "ticks": "",
           "title": {
            "standoff": 15
           },
           "zerolinecolor": "white",
           "zerolinewidth": 2
          }
         }
        },
        "title": {
         "text": "Water vs Bug Pokemons"
        },
        "xaxis": {
         "title": {
          "text": "Attack Power"
         }
        },
        "yaxis": {
         "title": {
          "text": "Defence Power"
         }
        }
       }
      },
      "text/html": [
       "<div>                            <div id=\"3472b84a-c71f-4263-9c1b-0e3c79c2d18e\" class=\"plotly-graph-div\" style=\"height:525px; width:100%;\"></div>            <script type=\"text/javascript\">                require([\"plotly\"], function(Plotly) {                    window.PLOTLYENV=window.PLOTLYENV || {};                                    if (document.getElementById(\"3472b84a-c71f-4263-9c1b-0e3c79c2d18e\")) {                    Plotly.newPlot(                        \"3472b84a-c71f-4263-9c1b-0e3c79c2d18e\",                        [{\"marker\": {\"color\": \"rgb(255,0,0)\", \"size\": 8}, \"mode\": \"markers\", \"name\": \"Water\", \"text\": [\"Squirtle\", \"Wartortle\", \"Blastoise\", \"Mega Blastoise\", \"Psyduck\", \"Golduck\", \"Poliwag\", \"Poliwhirl\", \"Poliwrath\", \"Tentacool\", \"Tentacruel\", \"Slowpoke\", \"Slowbro\", \"Mega Slowbro\", \"Seel\", \"Dewgong\", \"Shellder\", \"Cloyster\", \"Krabby\", \"Kingler\", \"Horsea\", \"Seadra\", \"Goldeen\", \"Seaking\", \"Staryu\", \"Starmie\", \"Magikarp\", \"Gyarados\", \"Mega Gyarados\", \"Lapras\", \"Vaporeon\", \"Omanyte\", \"Omastar\", \"Kabuto\", \"Kabutops\", \"Totodile\", \"Croconaw\", \"Feraligatr\", \"Chinchou\", \"Lanturn\", \"Marill\", \"Azumarill\", \"Politoed\", \"Wooper\", \"Quagsire\", \"Slowking\", \"Qwilfish\", \"Corsola\", \"Remoraid\", \"Octillery\", \"Mantine\", \"Kingdra\", \"Suicune\", \"Mudkip\", \"Marshtomp\", \"Swampert\", \"Mega Swampert\", \"Lotad\", \"Lombre\", \"Ludicolo\", \"Wingull\", \"Pelipper\", \"Surskit\", \"Carvanha\", \"Sharpedo\", \"Mega Sharpedo\", \"Wailmer\", \"Wailord\", \"Barboach\", \"Whiscash\", \"Corphish\", \"Crawdaunt\", \"Feebas\", \"Milotic\", \"Spheal\", \"Sealeo\", \"Walrein\", \"Clamperl\", \"Huntail\", \"Gorebyss\", \"Relicanth\", \"Luvdisc\", \"Kyogre\", \"KyogrePrimal Kyogre\", \"Piplup\", \"Prinplup\", \"Empoleon\", \"Bibarel\", \"Buizel\", \"Floatzel\", \"Shellos\", \"Gastrodon\", \"Finneon\", \"Lumineon\", \"Mantyke\", \"RotomWash Rotom\", \"Palkia\", \"Phione\", \"Manaphy\", \"Oshawott\", \"Dewott\", \"Samurott\", \"Panpour\", \"Simipour\", \"Tympole\", \"Palpitoad\", \"Seismitoad\", \"Basculin\", \"Tirtouga\", \"Carracosta\", \"Ducklett\", \"Swanna\", \"Frillish\", \"Jellicent\", \"Alomomola\", \"KeldeoOrdinary Forme\", \"KeldeoResolute Forme\", \"Froakie\", \"Frogadier\", \"Greninja\", \"Binacle\", \"Barbaracle\", \"Skrelp\", \"Clauncher\", \"Clawitzer\", \"Volcanion\"], \"type\": \"scatter\", \"x\": [48, 63, 83, 103, 52, 82, 50, 65, 95, 40, 70, 65, 75, 75, 45, 70, 65, 95, 105, 130, 40, 65, 67, 92, 45, 75, 10, 125, 155, 85, 65, 40, 60, 80, 115, 65, 80, 105, 38, 58, 20, 50, 75, 45, 85, 75, 95, 55, 65, 105, 40, 95, 75, 70, 85, 110, 150, 30, 50, 70, 30, 50, 30, 90, 120, 140, 70, 90, 48, 78, 80, 120, 15, 60, 40, 60, 80, 64, 104, 84, 90, 30, 100, 150, 51, 66, 86, 85, 65, 105, 48, 83, 49, 69, 20, 65, 120, 80, 100, 55, 75, 100, 53, 98, 50, 65, 95, 92, 78, 108, 44, 87, 40, 60, 75, 72, 72, 56, 63, 95, 52, 105, 60, 53, 73, 110], \"y\": [65, 80, 100, 120, 48, 78, 40, 65, 95, 35, 65, 65, 110, 180, 55, 80, 100, 180, 90, 115, 70, 95, 60, 65, 55, 85, 55, 79, 109, 80, 60, 100, 125, 90, 105, 64, 80, 100, 38, 58, 50, 80, 75, 45, 85, 80, 75, 85, 35, 75, 70, 95, 115, 50, 70, 90, 110, 30, 50, 70, 30, 100, 32, 20, 40, 70, 35, 45, 43, 73, 65, 85, 20, 79, 50, 70, 90, 85, 105, 105, 130, 55, 90, 90, 53, 68, 88, 60, 35, 55, 48, 68, 56, 76, 50, 107, 100, 80, 100, 45, 60, 85, 48, 63, 40, 55, 75, 65, 103, 133, 50, 63, 50, 70, 80, 90, 90, 40, 52, 67, 67, 115, 60, 62, 88, 120]}, {\"marker\": {\"color\": \"rgb(0,100,0)\", \"size\": 8}, \"mode\": \"markers\", \"name\": \"Bug\", \"text\": [\"Caterpie\", \"Metapod\", \"Butterfree\", \"Weedle\", \"Kakuna\", \"Beedrill\", \"Mega Beedrill\", \"Paras\", \"Parasect\", \"Venonat\", \"Venomoth\", \"Scyther\", \"Pinsir\", \"Mega Pinsir\", \"Ledyba\", \"Ledian\", \"Spinarak\", \"Ariados\", \"Yanma\", \"Pineco\", \"Forretress\", \"Scizor\", \"Mega Scizor\", \"Shuckle\", \"Heracross\", \"Mega Heracross\", \"Wurmple\", \"Silcoon\", \"Beautifly\", \"Cascoon\", \"Dustox\", \"Surskit\", \"Masquerain\", \"Nincada\", \"Ninjask\", \"Shedinja\", \"Volbeat\", \"Illumise\", \"Anorith\", \"Armaldo\", \"Kricketot\", \"Kricketune\", \"Burmy\", \"WormadamPlant Cloak\", \"WormadamSandy Cloak\", \"WormadamTrash Cloak\", \"Mothim\", \"Combee\", \"Vespiquen\", \"Skorupi\", \"Yanmega\", \"Sewaddle\", \"Swadloon\", \"Leavanny\", \"Venipede\", \"Whirlipede\", \"Scolipede\", \"Dwebble\", \"Crustle\", \"Karrablast\", \"Escavalier\", \"Joltik\", \"Galvantula\", \"Shelmet\", \"Accelgor\", \"Durant\", \"Larvesta\", \"Volcarona\", \"Genesect\", \"Scatterbug\", \"Spewpa\", \"Vivillon\"], \"type\": \"scatter\", \"x\": [30, 20, 45, 35, 25, 90, 150, 70, 95, 55, 65, 110, 125, 155, 20, 35, 60, 90, 65, 65, 90, 130, 150, 10, 125, 185, 45, 35, 70, 35, 50, 30, 60, 45, 90, 90, 73, 47, 95, 125, 25, 85, 29, 59, 79, 69, 94, 30, 80, 50, 76, 53, 63, 103, 45, 55, 100, 65, 95, 75, 135, 47, 77, 40, 70, 109, 85, 60, 120, 35, 22, 52], \"y\": [35, 55, 50, 30, 50, 40, 40, 55, 80, 50, 60, 80, 100, 120, 30, 50, 40, 70, 45, 90, 140, 100, 140, 230, 75, 115, 35, 55, 50, 55, 70, 32, 62, 90, 45, 45, 55, 55, 50, 100, 41, 51, 45, 85, 105, 95, 50, 42, 102, 90, 86, 70, 90, 80, 59, 99, 89, 85, 125, 45, 105, 50, 60, 85, 40, 112, 55, 65, 95, 40, 60, 50]}],                        {\"template\": {\"data\": {\"bar\": [{\"error_x\": {\"color\": \"#2a3f5f\"}, \"error_y\": {\"color\": \"#2a3f5f\"}, \"marker\": {\"line\": {\"color\": \"#E5ECF6\", \"width\": 0.5}}, \"type\": \"bar\"}], \"barpolar\": [{\"marker\": {\"line\": {\"color\": \"#E5ECF6\", \"width\": 0.5}}, \"type\": \"barpolar\"}], \"carpet\": [{\"aaxis\": {\"endlinecolor\": \"#2a3f5f\", \"gridcolor\": \"white\", \"linecolor\": \"white\", \"minorgridcolor\": \"white\", \"startlinecolor\": \"#2a3f5f\"}, \"baxis\": {\"endlinecolor\": \"#2a3f5f\", \"gridcolor\": \"white\", \"linecolor\": \"white\", \"minorgridcolor\": \"white\", \"startlinecolor\": \"#2a3f5f\"}, \"type\": \"carpet\"}], \"choropleth\": [{\"colorbar\": {\"outlinewidth\": 0, \"ticks\": \"\"}, \"type\": \"choropleth\"}], \"contour\": [{\"colorbar\": {\"outlinewidth\": 0, \"ticks\": \"\"}, \"colorscale\": [[0.0, \"#0d0887\"], [0.1111111111111111, \"#46039f\"], [0.2222222222222222, \"#7201a8\"], [0.3333333333333333, \"#9c179e\"], [0.4444444444444444, \"#bd3786\"], [0.5555555555555556, \"#d8576b\"], [0.6666666666666666, \"#ed7953\"], [0.7777777777777778, \"#fb9f3a\"], [0.8888888888888888, \"#fdca26\"], [1.0, \"#f0f921\"]], \"type\": \"contour\"}], \"contourcarpet\": [{\"colorbar\": {\"outlinewidth\": 0, \"ticks\": \"\"}, \"type\": \"contourcarpet\"}], \"heatmap\": [{\"colorbar\": {\"outlinewidth\": 0, \"ticks\": \"\"}, \"colorscale\": [[0.0, \"#0d0887\"], [0.1111111111111111, \"#46039f\"], [0.2222222222222222, \"#7201a8\"], [0.3333333333333333, \"#9c179e\"], [0.4444444444444444, \"#bd3786\"], [0.5555555555555556, \"#d8576b\"], [0.6666666666666666, \"#ed7953\"], [0.7777777777777778, \"#fb9f3a\"], [0.8888888888888888, \"#fdca26\"], [1.0, \"#f0f921\"]], \"type\": \"heatmap\"}], \"heatmapgl\": [{\"colorbar\": {\"outlinewidth\": 0, \"ticks\": \"\"}, \"colorscale\": [[0.0, \"#0d0887\"], [0.1111111111111111, \"#46039f\"], [0.2222222222222222, \"#7201a8\"], [0.3333333333333333, \"#9c179e\"], [0.4444444444444444, \"#bd3786\"], [0.5555555555555556, \"#d8576b\"], [0.6666666666666666, \"#ed7953\"], [0.7777777777777778, \"#fb9f3a\"], [0.8888888888888888, \"#fdca26\"], [1.0, \"#f0f921\"]], \"type\": \"heatmapgl\"}], \"histogram\": [{\"marker\": {\"colorbar\": {\"outlinewidth\": 0, \"ticks\": \"\"}}, \"type\": \"histogram\"}], \"histogram2d\": [{\"colorbar\": {\"outlinewidth\": 0, \"ticks\": \"\"}, \"colorscale\": [[0.0, \"#0d0887\"], [0.1111111111111111, \"#46039f\"], [0.2222222222222222, \"#7201a8\"], [0.3333333333333333, \"#9c179e\"], [0.4444444444444444, \"#bd3786\"], [0.5555555555555556, \"#d8576b\"], [0.6666666666666666, \"#ed7953\"], [0.7777777777777778, \"#fb9f3a\"], [0.8888888888888888, \"#fdca26\"], [1.0, \"#f0f921\"]], \"type\": \"histogram2d\"}], \"histogram2dcontour\": [{\"colorbar\": {\"outlinewidth\": 0, \"ticks\": \"\"}, \"colorscale\": [[0.0, \"#0d0887\"], [0.1111111111111111, \"#46039f\"], [0.2222222222222222, \"#7201a8\"], [0.3333333333333333, \"#9c179e\"], [0.4444444444444444, \"#bd3786\"], [0.5555555555555556, \"#d8576b\"], [0.6666666666666666, \"#ed7953\"], [0.7777777777777778, \"#fb9f3a\"], [0.8888888888888888, \"#fdca26\"], [1.0, \"#f0f921\"]], \"type\": \"histogram2dcontour\"}], \"mesh3d\": [{\"colorbar\": {\"outlinewidth\": 0, \"ticks\": \"\"}, \"type\": \"mesh3d\"}], \"parcoords\": [{\"line\": {\"colorbar\": {\"outlinewidth\": 0, \"ticks\": \"\"}}, \"type\": \"parcoords\"}], \"pie\": [{\"automargin\": true, \"type\": \"pie\"}], \"scatter\": [{\"marker\": {\"colorbar\": {\"outlinewidth\": 0, \"ticks\": \"\"}}, \"type\": \"scatter\"}], \"scatter3d\": [{\"line\": {\"colorbar\": {\"outlinewidth\": 0, \"ticks\": \"\"}}, \"marker\": {\"colorbar\": {\"outlinewidth\": 0, \"ticks\": \"\"}}, \"type\": \"scatter3d\"}], \"scattercarpet\": [{\"marker\": {\"colorbar\": {\"outlinewidth\": 0, \"ticks\": \"\"}}, \"type\": \"scattercarpet\"}], \"scattergeo\": [{\"marker\": {\"colorbar\": {\"outlinewidth\": 0, \"ticks\": \"\"}}, \"type\": \"scattergeo\"}], \"scattergl\": [{\"marker\": {\"colorbar\": {\"outlinewidth\": 0, \"ticks\": \"\"}}, \"type\": \"scattergl\"}], \"scattermapbox\": [{\"marker\": {\"colorbar\": {\"outlinewidth\": 0, \"ticks\": \"\"}}, \"type\": \"scattermapbox\"}], \"scatterpolar\": [{\"marker\": {\"colorbar\": {\"outlinewidth\": 0, \"ticks\": \"\"}}, \"type\": \"scatterpolar\"}], \"scatterpolargl\": [{\"marker\": {\"colorbar\": {\"outlinewidth\": 0, \"ticks\": \"\"}}, \"type\": \"scatterpolargl\"}], \"scatterternary\": [{\"marker\": {\"colorbar\": {\"outlinewidth\": 0, \"ticks\": \"\"}}, \"type\": \"scatterternary\"}], \"surface\": [{\"colorbar\": {\"outlinewidth\": 0, \"ticks\": \"\"}, \"colorscale\": [[0.0, \"#0d0887\"], [0.1111111111111111, \"#46039f\"], [0.2222222222222222, \"#7201a8\"], [0.3333333333333333, \"#9c179e\"], [0.4444444444444444, \"#bd3786\"], [0.5555555555555556, \"#d8576b\"], [0.6666666666666666, \"#ed7953\"], [0.7777777777777778, \"#fb9f3a\"], [0.8888888888888888, \"#fdca26\"], [1.0, \"#f0f921\"]], \"type\": \"surface\"}], \"table\": [{\"cells\": {\"fill\": {\"color\": \"#EBF0F8\"}, \"line\": {\"color\": \"white\"}}, \"header\": {\"fill\": {\"color\": \"#C8D4E3\"}, \"line\": {\"color\": \"white\"}}, \"type\": \"table\"}]}, \"layout\": {\"annotationdefaults\": {\"arrowcolor\": \"#2a3f5f\", \"arrowhead\": 0, \"arrowwidth\": 1}, \"coloraxis\": {\"colorbar\": {\"outlinewidth\": 0, \"ticks\": \"\"}}, \"colorscale\": {\"diverging\": [[0, \"#8e0152\"], [0.1, \"#c51b7d\"], [0.2, \"#de77ae\"], [0.3, \"#f1b6da\"], [0.4, \"#fde0ef\"], [0.5, \"#f7f7f7\"], [0.6, \"#e6f5d0\"], [0.7, \"#b8e186\"], [0.8, \"#7fbc41\"], [0.9, \"#4d9221\"], [1, \"#276419\"]], \"sequential\": [[0.0, \"#0d0887\"], [0.1111111111111111, \"#46039f\"], [0.2222222222222222, \"#7201a8\"], [0.3333333333333333, \"#9c179e\"], [0.4444444444444444, \"#bd3786\"], [0.5555555555555556, \"#d8576b\"], [0.6666666666666666, \"#ed7953\"], [0.7777777777777778, \"#fb9f3a\"], [0.8888888888888888, \"#fdca26\"], [1.0, \"#f0f921\"]], \"sequentialminus\": [[0.0, \"#0d0887\"], [0.1111111111111111, \"#46039f\"], [0.2222222222222222, \"#7201a8\"], [0.3333333333333333, \"#9c179e\"], [0.4444444444444444, \"#bd3786\"], [0.5555555555555556, \"#d8576b\"], [0.6666666666666666, \"#ed7953\"], [0.7777777777777778, \"#fb9f3a\"], [0.8888888888888888, \"#fdca26\"], [1.0, \"#f0f921\"]]}, \"colorway\": [\"#636efa\", \"#EF553B\", \"#00cc96\", \"#ab63fa\", \"#FFA15A\", \"#19d3f3\", \"#FF6692\", \"#B6E880\", \"#FF97FF\", \"#FECB52\"], \"font\": {\"color\": \"#2a3f5f\"}, \"geo\": {\"bgcolor\": \"white\", \"lakecolor\": \"white\", \"landcolor\": \"#E5ECF6\", \"showlakes\": true, \"showland\": true, \"subunitcolor\": \"white\"}, \"hoverlabel\": {\"align\": \"left\"}, \"hovermode\": \"closest\", \"mapbox\": {\"style\": \"light\"}, \"paper_bgcolor\": \"white\", \"plot_bgcolor\": \"#E5ECF6\", \"polar\": {\"angularaxis\": {\"gridcolor\": \"white\", \"linecolor\": \"white\", \"ticks\": \"\"}, \"bgcolor\": \"#E5ECF6\", \"radialaxis\": {\"gridcolor\": \"white\", \"linecolor\": \"white\", \"ticks\": \"\"}}, \"scene\": {\"xaxis\": {\"backgroundcolor\": \"#E5ECF6\", \"gridcolor\": \"white\", \"gridwidth\": 2, \"linecolor\": \"white\", \"showbackground\": true, \"ticks\": \"\", \"zerolinecolor\": \"white\"}, \"yaxis\": {\"backgroundcolor\": \"#E5ECF6\", \"gridcolor\": \"white\", \"gridwidth\": 2, \"linecolor\": \"white\", \"showbackground\": true, \"ticks\": \"\", \"zerolinecolor\": \"white\"}, \"zaxis\": {\"backgroundcolor\": \"#E5ECF6\", \"gridcolor\": \"white\", \"gridwidth\": 2, \"linecolor\": \"white\", \"showbackground\": true, \"ticks\": \"\", \"zerolinecolor\": \"white\"}}, \"shapedefaults\": {\"line\": {\"color\": \"#2a3f5f\"}}, \"ternary\": {\"aaxis\": {\"gridcolor\": \"white\", \"linecolor\": \"white\", \"ticks\": \"\"}, \"baxis\": {\"gridcolor\": \"white\", \"linecolor\": \"white\", \"ticks\": \"\"}, \"bgcolor\": \"#E5ECF6\", \"caxis\": {\"gridcolor\": \"white\", \"linecolor\": \"white\", \"ticks\": \"\"}}, \"title\": {\"x\": 0.05}, \"xaxis\": {\"automargin\": true, \"gridcolor\": \"white\", \"linecolor\": \"white\", \"ticks\": \"\", \"title\": {\"standoff\": 15}, \"zerolinecolor\": \"white\", \"zerolinewidth\": 2}, \"yaxis\": {\"automargin\": true, \"gridcolor\": \"white\", \"linecolor\": \"white\", \"ticks\": \"\", \"title\": {\"standoff\": 15}, \"zerolinecolor\": \"white\", \"zerolinewidth\": 2}}}, \"title\": {\"text\": \"Water vs Bug Pokemons\"}, \"xaxis\": {\"title\": {\"text\": \"Attack Power\"}}, \"yaxis\": {\"title\": {\"text\": \"Defence Power\"}}},                        {\"responsive\": true}                    ).then(function(){\n",
       "                            \n",
       "var gd = document.getElementById('3472b84a-c71f-4263-9c1b-0e3c79c2d18e');\n",
       "var x = new MutationObserver(function (mutations, observer) {{\n",
       "        var display = window.getComputedStyle(gd).display;\n",
       "        if (!display || display === 'none') {{\n",
       "            console.log([gd, 'removed!']);\n",
       "            Plotly.purge(gd);\n",
       "            observer.disconnect();\n",
       "        }}\n",
       "}});\n",
       "\n",
       "// Listen for the removal of the full notebook cells\n",
       "var notebookContainer = gd.closest('#notebook-container');\n",
       "if (notebookContainer) {{\n",
       "    x.observe(notebookContainer, {childList: true});\n",
       "}}\n",
       "\n",
       "// Listen for the clearing of the current output cell\n",
       "var outputEl = gd.closest('.output');\n",
       "if (outputEl) {{\n",
       "    x.observe(outputEl, {childList: true});\n",
       "}}\n",
       "\n",
       "                        })                };                });            </script>        </div>"
      ]
     },
     "metadata": {},
     "output_type": "display_data"
    },
    {
     "data": {
      "application/vnd.plotly.v1+json": {
       "config": {
        "linkText": "Export to plot.ly",
        "plotlyServerURL": "https://plot.ly",
        "showLink": false
       },
       "data": [
        {
         "marker": {
          "color": "rgb(255,0,0)",
          "size": 8
         },
         "mode": "markers",
         "name": "Grass",
         "text": [
          "Bulbasaur",
          "Ivysaur",
          "Venusaur",
          "Mega Venusaur",
          "Oddish",
          "Gloom",
          "Vileplume",
          "Paras",
          "Parasect",
          "Bellsprout",
          "Weepinbell",
          "Victreebel",
          "Exeggcute",
          "Exeggutor",
          "Tangela",
          "Chikorita",
          "Bayleef",
          "Meganium",
          "Bellossom",
          "Hoppip",
          "Skiploom",
          "Jumpluff",
          "Sunkern",
          "Sunflora",
          "Celebi",
          "Treecko",
          "Grovyle",
          "Sceptile",
          "Mega Sceptile",
          "Lotad",
          "Lombre",
          "Ludicolo",
          "Seedot",
          "Nuzleaf",
          "Shiftry",
          "Shroomish",
          "Breloom",
          "Roselia",
          "Cacnea",
          "Cacturne",
          "Lileep",
          "Cradily",
          "Tropius",
          "Turtwig",
          "Grotle",
          "Torterra",
          "Budew",
          "Roserade",
          "WormadamPlant Cloak",
          "Cherubi",
          "Cherrim",
          "Carnivine",
          "Snover",
          "Abomasnow",
          "Mega Abomasnow",
          "Tangrowth",
          "Leafeon",
          "RotomMow Rotom",
          "ShayminLand Forme",
          "ShayminSky Forme",
          "Snivy",
          "Servine",
          "Serperior",
          "Pansage",
          "Simisage",
          "Sewaddle",
          "Swadloon",
          "Leavanny",
          "Cottonee",
          "Whimsicott",
          "Petilil",
          "Lilligant",
          "Maractus",
          "Deerling",
          "Sawsbuck",
          "Foongus",
          "Amoonguss",
          "Ferroseed",
          "Ferrothorn",
          "Virizion",
          "Chespin",
          "Quilladin",
          "Chesnaught",
          "Skiddo",
          "Gogoat",
          "Phantump",
          "Trevenant",
          "PumpkabooAverage Size",
          "PumpkabooSmall Size",
          "PumpkabooLarge Size",
          "PumpkabooSuper Size",
          "GourgeistAverage Size",
          "GourgeistSmall Size",
          "GourgeistLarge Size",
          "GourgeistSuper Size"
         ],
         "type": "scatter",
         "x": [
          49,
          62,
          82,
          100,
          50,
          65,
          80,
          70,
          95,
          75,
          90,
          105,
          40,
          95,
          55,
          49,
          62,
          82,
          80,
          35,
          45,
          55,
          30,
          75,
          100,
          45,
          65,
          85,
          110,
          30,
          50,
          70,
          40,
          70,
          100,
          40,
          130,
          60,
          85,
          115,
          41,
          81,
          68,
          68,
          89,
          109,
          30,
          70,
          59,
          35,
          60,
          100,
          62,
          92,
          132,
          100,
          110,
          65,
          100,
          103,
          45,
          60,
          75,
          53,
          98,
          53,
          63,
          103,
          27,
          67,
          35,
          60,
          86,
          60,
          100,
          55,
          85,
          50,
          94,
          90,
          61,
          78,
          107,
          65,
          100,
          70,
          110,
          66,
          66,
          66,
          66,
          90,
          85,
          95,
          100
         ],
         "y": [
          49,
          63,
          83,
          123,
          55,
          70,
          85,
          55,
          80,
          35,
          50,
          65,
          80,
          85,
          115,
          65,
          80,
          100,
          95,
          40,
          50,
          70,
          30,
          55,
          100,
          35,
          45,
          65,
          75,
          30,
          50,
          70,
          50,
          40,
          60,
          60,
          80,
          45,
          40,
          60,
          77,
          97,
          83,
          64,
          85,
          105,
          35,
          65,
          85,
          45,
          70,
          72,
          50,
          75,
          105,
          125,
          130,
          107,
          100,
          75,
          55,
          75,
          95,
          48,
          63,
          70,
          90,
          80,
          60,
          85,
          50,
          75,
          67,
          50,
          70,
          45,
          70,
          91,
          131,
          72,
          65,
          95,
          122,
          48,
          62,
          48,
          76,
          70,
          70,
          70,
          70,
          122,
          122,
          122,
          122
         ]
        },
        {
         "marker": {
          "color": "rgb(0,100,0)",
          "size": 8
         },
         "mode": "markers",
         "name": "Normal",
         "text": [
          "Pidgey",
          "Pidgeotto",
          "Pidgeot",
          "Mega Pidgeot",
          "Rattata",
          "Raticate",
          "Spearow",
          "Fearow",
          "Jigglypuff",
          "Wigglytuff",
          "Meowth",
          "Persian",
          "Farfetch'd",
          "Doduo",
          "Dodrio",
          "Lickitung",
          "Chansey",
          "Kangaskhan",
          "Mega Kangaskhan",
          "Tauros",
          "Ditto",
          "Eevee",
          "Porygon",
          "Snorlax",
          "Sentret",
          "Furret",
          "Hoothoot",
          "Noctowl",
          "Igglybuff",
          "Aipom",
          "Girafarig",
          "Dunsparce",
          "Teddiursa",
          "Ursaring",
          "Porygon2",
          "Stantler",
          "Smeargle",
          "Miltank",
          "Blissey",
          "Zigzagoon",
          "Linoone",
          "Taillow",
          "Swellow",
          "Slakoth",
          "Vigoroth",
          "Slaking",
          "Whismur",
          "Loudred",
          "Exploud",
          "Azurill",
          "Skitty",
          "Delcatty",
          "Spinda",
          "Swablu",
          "Zangoose",
          "Castform",
          "Kecleon",
          "Starly",
          "Staravia",
          "Staraptor",
          "Bidoof",
          "Bibarel",
          "Ambipom",
          "Buneary",
          "Lopunny",
          "Mega Lopunny",
          "Glameow",
          "Purugly",
          "Happiny",
          "Chatot",
          "Munchlax",
          "Lickilicky",
          "Porygon-Z",
          "Regigigas",
          "Arceus",
          "Patrat",
          "Watchog",
          "Lillipup",
          "Herdier",
          "Stoutland",
          "Pidove",
          "Tranquill",
          "Unfezant",
          "Audino",
          "Mega Audino",
          "Minccino",
          "Cinccino",
          "Deerling",
          "Sawsbuck",
          "Bouffalant",
          "Rufflet",
          "Braviary",
          "MeloettaAria Forme",
          "MeloettaPirouette Forme",
          "Bunnelby",
          "Diggersby",
          "Fletchling",
          "Litleo",
          "Pyroar",
          "Furfrou",
          "Helioptile",
          "Heliolisk"
         ],
         "type": "scatter",
         "x": [
          45,
          60,
          80,
          80,
          56,
          81,
          60,
          90,
          45,
          70,
          45,
          70,
          65,
          85,
          110,
          55,
          5,
          95,
          125,
          100,
          48,
          55,
          60,
          110,
          46,
          76,
          30,
          50,
          30,
          70,
          80,
          70,
          80,
          130,
          80,
          95,
          20,
          80,
          10,
          30,
          70,
          55,
          85,
          60,
          80,
          160,
          51,
          71,
          91,
          20,
          45,
          65,
          60,
          40,
          115,
          70,
          90,
          55,
          75,
          120,
          45,
          85,
          100,
          66,
          76,
          136,
          55,
          82,
          5,
          65,
          85,
          85,
          80,
          160,
          120,
          55,
          85,
          60,
          80,
          110,
          55,
          77,
          115,
          60,
          60,
          50,
          95,
          60,
          100,
          110,
          83,
          123,
          77,
          128,
          36,
          56,
          50,
          50,
          68,
          80,
          38,
          55
         ],
         "y": [
          40,
          55,
          75,
          80,
          35,
          60,
          30,
          65,
          20,
          45,
          35,
          60,
          55,
          45,
          70,
          75,
          5,
          80,
          100,
          95,
          48,
          50,
          70,
          65,
          34,
          64,
          30,
          50,
          15,
          55,
          65,
          70,
          50,
          75,
          90,
          62,
          35,
          105,
          10,
          41,
          61,
          30,
          60,
          60,
          80,
          100,
          23,
          43,
          63,
          40,
          45,
          65,
          60,
          60,
          60,
          70,
          70,
          30,
          50,
          70,
          40,
          60,
          66,
          44,
          84,
          94,
          42,
          64,
          5,
          45,
          40,
          95,
          70,
          110,
          120,
          39,
          69,
          45,
          65,
          90,
          50,
          62,
          80,
          86,
          126,
          40,
          60,
          50,
          70,
          95,
          50,
          75,
          77,
          90,
          38,
          77,
          43,
          58,
          72,
          60,
          33,
          52
         ]
        }
       ],
       "layout": {
        "template": {
         "data": {
          "bar": [
           {
            "error_x": {
             "color": "#2a3f5f"
            },
            "error_y": {
             "color": "#2a3f5f"
            },
            "marker": {
             "line": {
              "color": "#E5ECF6",
              "width": 0.5
             }
            },
            "type": "bar"
           }
          ],
          "barpolar": [
           {
            "marker": {
             "line": {
              "color": "#E5ECF6",
              "width": 0.5
             }
            },
            "type": "barpolar"
           }
          ],
          "carpet": [
           {
            "aaxis": {
             "endlinecolor": "#2a3f5f",
             "gridcolor": "white",
             "linecolor": "white",
             "minorgridcolor": "white",
             "startlinecolor": "#2a3f5f"
            },
            "baxis": {
             "endlinecolor": "#2a3f5f",
             "gridcolor": "white",
             "linecolor": "white",
             "minorgridcolor": "white",
             "startlinecolor": "#2a3f5f"
            },
            "type": "carpet"
           }
          ],
          "choropleth": [
           {
            "colorbar": {
             "outlinewidth": 0,
             "ticks": ""
            },
            "type": "choropleth"
           }
          ],
          "contour": [
           {
            "colorbar": {
             "outlinewidth": 0,
             "ticks": ""
            },
            "colorscale": [
             [
              0,
              "#0d0887"
             ],
             [
              0.1111111111111111,
              "#46039f"
             ],
             [
              0.2222222222222222,
              "#7201a8"
             ],
             [
              0.3333333333333333,
              "#9c179e"
             ],
             [
              0.4444444444444444,
              "#bd3786"
             ],
             [
              0.5555555555555556,
              "#d8576b"
             ],
             [
              0.6666666666666666,
              "#ed7953"
             ],
             [
              0.7777777777777778,
              "#fb9f3a"
             ],
             [
              0.8888888888888888,
              "#fdca26"
             ],
             [
              1,
              "#f0f921"
             ]
            ],
            "type": "contour"
           }
          ],
          "contourcarpet": [
           {
            "colorbar": {
             "outlinewidth": 0,
             "ticks": ""
            },
            "type": "contourcarpet"
           }
          ],
          "heatmap": [
           {
            "colorbar": {
             "outlinewidth": 0,
             "ticks": ""
            },
            "colorscale": [
             [
              0,
              "#0d0887"
             ],
             [
              0.1111111111111111,
              "#46039f"
             ],
             [
              0.2222222222222222,
              "#7201a8"
             ],
             [
              0.3333333333333333,
              "#9c179e"
             ],
             [
              0.4444444444444444,
              "#bd3786"
             ],
             [
              0.5555555555555556,
              "#d8576b"
             ],
             [
              0.6666666666666666,
              "#ed7953"
             ],
             [
              0.7777777777777778,
              "#fb9f3a"
             ],
             [
              0.8888888888888888,
              "#fdca26"
             ],
             [
              1,
              "#f0f921"
             ]
            ],
            "type": "heatmap"
           }
          ],
          "heatmapgl": [
           {
            "colorbar": {
             "outlinewidth": 0,
             "ticks": ""
            },
            "colorscale": [
             [
              0,
              "#0d0887"
             ],
             [
              0.1111111111111111,
              "#46039f"
             ],
             [
              0.2222222222222222,
              "#7201a8"
             ],
             [
              0.3333333333333333,
              "#9c179e"
             ],
             [
              0.4444444444444444,
              "#bd3786"
             ],
             [
              0.5555555555555556,
              "#d8576b"
             ],
             [
              0.6666666666666666,
              "#ed7953"
             ],
             [
              0.7777777777777778,
              "#fb9f3a"
             ],
             [
              0.8888888888888888,
              "#fdca26"
             ],
             [
              1,
              "#f0f921"
             ]
            ],
            "type": "heatmapgl"
           }
          ],
          "histogram": [
           {
            "marker": {
             "colorbar": {
              "outlinewidth": 0,
              "ticks": ""
             }
            },
            "type": "histogram"
           }
          ],
          "histogram2d": [
           {
            "colorbar": {
             "outlinewidth": 0,
             "ticks": ""
            },
            "colorscale": [
             [
              0,
              "#0d0887"
             ],
             [
              0.1111111111111111,
              "#46039f"
             ],
             [
              0.2222222222222222,
              "#7201a8"
             ],
             [
              0.3333333333333333,
              "#9c179e"
             ],
             [
              0.4444444444444444,
              "#bd3786"
             ],
             [
              0.5555555555555556,
              "#d8576b"
             ],
             [
              0.6666666666666666,
              "#ed7953"
             ],
             [
              0.7777777777777778,
              "#fb9f3a"
             ],
             [
              0.8888888888888888,
              "#fdca26"
             ],
             [
              1,
              "#f0f921"
             ]
            ],
            "type": "histogram2d"
           }
          ],
          "histogram2dcontour": [
           {
            "colorbar": {
             "outlinewidth": 0,
             "ticks": ""
            },
            "colorscale": [
             [
              0,
              "#0d0887"
             ],
             [
              0.1111111111111111,
              "#46039f"
             ],
             [
              0.2222222222222222,
              "#7201a8"
             ],
             [
              0.3333333333333333,
              "#9c179e"
             ],
             [
              0.4444444444444444,
              "#bd3786"
             ],
             [
              0.5555555555555556,
              "#d8576b"
             ],
             [
              0.6666666666666666,
              "#ed7953"
             ],
             [
              0.7777777777777778,
              "#fb9f3a"
             ],
             [
              0.8888888888888888,
              "#fdca26"
             ],
             [
              1,
              "#f0f921"
             ]
            ],
            "type": "histogram2dcontour"
           }
          ],
          "mesh3d": [
           {
            "colorbar": {
             "outlinewidth": 0,
             "ticks": ""
            },
            "type": "mesh3d"
           }
          ],
          "parcoords": [
           {
            "line": {
             "colorbar": {
              "outlinewidth": 0,
              "ticks": ""
             }
            },
            "type": "parcoords"
           }
          ],
          "pie": [
           {
            "automargin": true,
            "type": "pie"
           }
          ],
          "scatter": [
           {
            "marker": {
             "colorbar": {
              "outlinewidth": 0,
              "ticks": ""
             }
            },
            "type": "scatter"
           }
          ],
          "scatter3d": [
           {
            "line": {
             "colorbar": {
              "outlinewidth": 0,
              "ticks": ""
             }
            },
            "marker": {
             "colorbar": {
              "outlinewidth": 0,
              "ticks": ""
             }
            },
            "type": "scatter3d"
           }
          ],
          "scattercarpet": [
           {
            "marker": {
             "colorbar": {
              "outlinewidth": 0,
              "ticks": ""
             }
            },
            "type": "scattercarpet"
           }
          ],
          "scattergeo": [
           {
            "marker": {
             "colorbar": {
              "outlinewidth": 0,
              "ticks": ""
             }
            },
            "type": "scattergeo"
           }
          ],
          "scattergl": [
           {
            "marker": {
             "colorbar": {
              "outlinewidth": 0,
              "ticks": ""
             }
            },
            "type": "scattergl"
           }
          ],
          "scattermapbox": [
           {
            "marker": {
             "colorbar": {
              "outlinewidth": 0,
              "ticks": ""
             }
            },
            "type": "scattermapbox"
           }
          ],
          "scatterpolar": [
           {
            "marker": {
             "colorbar": {
              "outlinewidth": 0,
              "ticks": ""
             }
            },
            "type": "scatterpolar"
           }
          ],
          "scatterpolargl": [
           {
            "marker": {
             "colorbar": {
              "outlinewidth": 0,
              "ticks": ""
             }
            },
            "type": "scatterpolargl"
           }
          ],
          "scatterternary": [
           {
            "marker": {
             "colorbar": {
              "outlinewidth": 0,
              "ticks": ""
             }
            },
            "type": "scatterternary"
           }
          ],
          "surface": [
           {
            "colorbar": {
             "outlinewidth": 0,
             "ticks": ""
            },
            "colorscale": [
             [
              0,
              "#0d0887"
             ],
             [
              0.1111111111111111,
              "#46039f"
             ],
             [
              0.2222222222222222,
              "#7201a8"
             ],
             [
              0.3333333333333333,
              "#9c179e"
             ],
             [
              0.4444444444444444,
              "#bd3786"
             ],
             [
              0.5555555555555556,
              "#d8576b"
             ],
             [
              0.6666666666666666,
              "#ed7953"
             ],
             [
              0.7777777777777778,
              "#fb9f3a"
             ],
             [
              0.8888888888888888,
              "#fdca26"
             ],
             [
              1,
              "#f0f921"
             ]
            ],
            "type": "surface"
           }
          ],
          "table": [
           {
            "cells": {
             "fill": {
              "color": "#EBF0F8"
             },
             "line": {
              "color": "white"
             }
            },
            "header": {
             "fill": {
              "color": "#C8D4E3"
             },
             "line": {
              "color": "white"
             }
            },
            "type": "table"
           }
          ]
         },
         "layout": {
          "annotationdefaults": {
           "arrowcolor": "#2a3f5f",
           "arrowhead": 0,
           "arrowwidth": 1
          },
          "coloraxis": {
           "colorbar": {
            "outlinewidth": 0,
            "ticks": ""
           }
          },
          "colorscale": {
           "diverging": [
            [
             0,
             "#8e0152"
            ],
            [
             0.1,
             "#c51b7d"
            ],
            [
             0.2,
             "#de77ae"
            ],
            [
             0.3,
             "#f1b6da"
            ],
            [
             0.4,
             "#fde0ef"
            ],
            [
             0.5,
             "#f7f7f7"
            ],
            [
             0.6,
             "#e6f5d0"
            ],
            [
             0.7,
             "#b8e186"
            ],
            [
             0.8,
             "#7fbc41"
            ],
            [
             0.9,
             "#4d9221"
            ],
            [
             1,
             "#276419"
            ]
           ],
           "sequential": [
            [
             0,
             "#0d0887"
            ],
            [
             0.1111111111111111,
             "#46039f"
            ],
            [
             0.2222222222222222,
             "#7201a8"
            ],
            [
             0.3333333333333333,
             "#9c179e"
            ],
            [
             0.4444444444444444,
             "#bd3786"
            ],
            [
             0.5555555555555556,
             "#d8576b"
            ],
            [
             0.6666666666666666,
             "#ed7953"
            ],
            [
             0.7777777777777778,
             "#fb9f3a"
            ],
            [
             0.8888888888888888,
             "#fdca26"
            ],
            [
             1,
             "#f0f921"
            ]
           ],
           "sequentialminus": [
            [
             0,
             "#0d0887"
            ],
            [
             0.1111111111111111,
             "#46039f"
            ],
            [
             0.2222222222222222,
             "#7201a8"
            ],
            [
             0.3333333333333333,
             "#9c179e"
            ],
            [
             0.4444444444444444,
             "#bd3786"
            ],
            [
             0.5555555555555556,
             "#d8576b"
            ],
            [
             0.6666666666666666,
             "#ed7953"
            ],
            [
             0.7777777777777778,
             "#fb9f3a"
            ],
            [
             0.8888888888888888,
             "#fdca26"
            ],
            [
             1,
             "#f0f921"
            ]
           ]
          },
          "colorway": [
           "#636efa",
           "#EF553B",
           "#00cc96",
           "#ab63fa",
           "#FFA15A",
           "#19d3f3",
           "#FF6692",
           "#B6E880",
           "#FF97FF",
           "#FECB52"
          ],
          "font": {
           "color": "#2a3f5f"
          },
          "geo": {
           "bgcolor": "white",
           "lakecolor": "white",
           "landcolor": "#E5ECF6",
           "showlakes": true,
           "showland": true,
           "subunitcolor": "white"
          },
          "hoverlabel": {
           "align": "left"
          },
          "hovermode": "closest",
          "mapbox": {
           "style": "light"
          },
          "paper_bgcolor": "white",
          "plot_bgcolor": "#E5ECF6",
          "polar": {
           "angularaxis": {
            "gridcolor": "white",
            "linecolor": "white",
            "ticks": ""
           },
           "bgcolor": "#E5ECF6",
           "radialaxis": {
            "gridcolor": "white",
            "linecolor": "white",
            "ticks": ""
           }
          },
          "scene": {
           "xaxis": {
            "backgroundcolor": "#E5ECF6",
            "gridcolor": "white",
            "gridwidth": 2,
            "linecolor": "white",
            "showbackground": true,
            "ticks": "",
            "zerolinecolor": "white"
           },
           "yaxis": {
            "backgroundcolor": "#E5ECF6",
            "gridcolor": "white",
            "gridwidth": 2,
            "linecolor": "white",
            "showbackground": true,
            "ticks": "",
            "zerolinecolor": "white"
           },
           "zaxis": {
            "backgroundcolor": "#E5ECF6",
            "gridcolor": "white",
            "gridwidth": 2,
            "linecolor": "white",
            "showbackground": true,
            "ticks": "",
            "zerolinecolor": "white"
           }
          },
          "shapedefaults": {
           "line": {
            "color": "#2a3f5f"
           }
          },
          "ternary": {
           "aaxis": {
            "gridcolor": "white",
            "linecolor": "white",
            "ticks": ""
           },
           "baxis": {
            "gridcolor": "white",
            "linecolor": "white",
            "ticks": ""
           },
           "bgcolor": "#E5ECF6",
           "caxis": {
            "gridcolor": "white",
            "linecolor": "white",
            "ticks": ""
           }
          },
          "title": {
           "x": 0.05
          },
          "xaxis": {
           "automargin": true,
           "gridcolor": "white",
           "linecolor": "white",
           "ticks": "",
           "title": {
            "standoff": 15
           },
           "zerolinecolor": "white",
           "zerolinewidth": 2
          },
          "yaxis": {
           "automargin": true,
           "gridcolor": "white",
           "linecolor": "white",
           "ticks": "",
           "title": {
            "standoff": 15
           },
           "zerolinecolor": "white",
           "zerolinewidth": 2
          }
         }
        },
        "title": {
         "text": "Grass vs Normal Pokemons"
        },
        "xaxis": {
         "title": {
          "text": "Attack Power"
         }
        },
        "yaxis": {
         "title": {
          "text": "Defence Power"
         }
        }
       }
      },
      "text/html": [
       "<div>                            <div id=\"516f0806-a04a-443b-910b-ffb816a3a1d7\" class=\"plotly-graph-div\" style=\"height:525px; width:100%;\"></div>            <script type=\"text/javascript\">                require([\"plotly\"], function(Plotly) {                    window.PLOTLYENV=window.PLOTLYENV || {};                                    if (document.getElementById(\"516f0806-a04a-443b-910b-ffb816a3a1d7\")) {                    Plotly.newPlot(                        \"516f0806-a04a-443b-910b-ffb816a3a1d7\",                        [{\"marker\": {\"color\": \"rgb(255,0,0)\", \"size\": 8}, \"mode\": \"markers\", \"name\": \"Grass\", \"text\": [\"Bulbasaur\", \"Ivysaur\", \"Venusaur\", \"Mega Venusaur\", \"Oddish\", \"Gloom\", \"Vileplume\", \"Paras\", \"Parasect\", \"Bellsprout\", \"Weepinbell\", \"Victreebel\", \"Exeggcute\", \"Exeggutor\", \"Tangela\", \"Chikorita\", \"Bayleef\", \"Meganium\", \"Bellossom\", \"Hoppip\", \"Skiploom\", \"Jumpluff\", \"Sunkern\", \"Sunflora\", \"Celebi\", \"Treecko\", \"Grovyle\", \"Sceptile\", \"Mega Sceptile\", \"Lotad\", \"Lombre\", \"Ludicolo\", \"Seedot\", \"Nuzleaf\", \"Shiftry\", \"Shroomish\", \"Breloom\", \"Roselia\", \"Cacnea\", \"Cacturne\", \"Lileep\", \"Cradily\", \"Tropius\", \"Turtwig\", \"Grotle\", \"Torterra\", \"Budew\", \"Roserade\", \"WormadamPlant Cloak\", \"Cherubi\", \"Cherrim\", \"Carnivine\", \"Snover\", \"Abomasnow\", \"Mega Abomasnow\", \"Tangrowth\", \"Leafeon\", \"RotomMow Rotom\", \"ShayminLand Forme\", \"ShayminSky Forme\", \"Snivy\", \"Servine\", \"Serperior\", \"Pansage\", \"Simisage\", \"Sewaddle\", \"Swadloon\", \"Leavanny\", \"Cottonee\", \"Whimsicott\", \"Petilil\", \"Lilligant\", \"Maractus\", \"Deerling\", \"Sawsbuck\", \"Foongus\", \"Amoonguss\", \"Ferroseed\", \"Ferrothorn\", \"Virizion\", \"Chespin\", \"Quilladin\", \"Chesnaught\", \"Skiddo\", \"Gogoat\", \"Phantump\", \"Trevenant\", \"PumpkabooAverage Size\", \"PumpkabooSmall Size\", \"PumpkabooLarge Size\", \"PumpkabooSuper Size\", \"GourgeistAverage Size\", \"GourgeistSmall Size\", \"GourgeistLarge Size\", \"GourgeistSuper Size\"], \"type\": \"scatter\", \"x\": [49, 62, 82, 100, 50, 65, 80, 70, 95, 75, 90, 105, 40, 95, 55, 49, 62, 82, 80, 35, 45, 55, 30, 75, 100, 45, 65, 85, 110, 30, 50, 70, 40, 70, 100, 40, 130, 60, 85, 115, 41, 81, 68, 68, 89, 109, 30, 70, 59, 35, 60, 100, 62, 92, 132, 100, 110, 65, 100, 103, 45, 60, 75, 53, 98, 53, 63, 103, 27, 67, 35, 60, 86, 60, 100, 55, 85, 50, 94, 90, 61, 78, 107, 65, 100, 70, 110, 66, 66, 66, 66, 90, 85, 95, 100], \"y\": [49, 63, 83, 123, 55, 70, 85, 55, 80, 35, 50, 65, 80, 85, 115, 65, 80, 100, 95, 40, 50, 70, 30, 55, 100, 35, 45, 65, 75, 30, 50, 70, 50, 40, 60, 60, 80, 45, 40, 60, 77, 97, 83, 64, 85, 105, 35, 65, 85, 45, 70, 72, 50, 75, 105, 125, 130, 107, 100, 75, 55, 75, 95, 48, 63, 70, 90, 80, 60, 85, 50, 75, 67, 50, 70, 45, 70, 91, 131, 72, 65, 95, 122, 48, 62, 48, 76, 70, 70, 70, 70, 122, 122, 122, 122]}, {\"marker\": {\"color\": \"rgb(0,100,0)\", \"size\": 8}, \"mode\": \"markers\", \"name\": \"Normal\", \"text\": [\"Pidgey\", \"Pidgeotto\", \"Pidgeot\", \"Mega Pidgeot\", \"Rattata\", \"Raticate\", \"Spearow\", \"Fearow\", \"Jigglypuff\", \"Wigglytuff\", \"Meowth\", \"Persian\", \"Farfetch'd\", \"Doduo\", \"Dodrio\", \"Lickitung\", \"Chansey\", \"Kangaskhan\", \"Mega Kangaskhan\", \"Tauros\", \"Ditto\", \"Eevee\", \"Porygon\", \"Snorlax\", \"Sentret\", \"Furret\", \"Hoothoot\", \"Noctowl\", \"Igglybuff\", \"Aipom\", \"Girafarig\", \"Dunsparce\", \"Teddiursa\", \"Ursaring\", \"Porygon2\", \"Stantler\", \"Smeargle\", \"Miltank\", \"Blissey\", \"Zigzagoon\", \"Linoone\", \"Taillow\", \"Swellow\", \"Slakoth\", \"Vigoroth\", \"Slaking\", \"Whismur\", \"Loudred\", \"Exploud\", \"Azurill\", \"Skitty\", \"Delcatty\", \"Spinda\", \"Swablu\", \"Zangoose\", \"Castform\", \"Kecleon\", \"Starly\", \"Staravia\", \"Staraptor\", \"Bidoof\", \"Bibarel\", \"Ambipom\", \"Buneary\", \"Lopunny\", \"Mega Lopunny\", \"Glameow\", \"Purugly\", \"Happiny\", \"Chatot\", \"Munchlax\", \"Lickilicky\", \"Porygon-Z\", \"Regigigas\", \"Arceus\", \"Patrat\", \"Watchog\", \"Lillipup\", \"Herdier\", \"Stoutland\", \"Pidove\", \"Tranquill\", \"Unfezant\", \"Audino\", \"Mega Audino\", \"Minccino\", \"Cinccino\", \"Deerling\", \"Sawsbuck\", \"Bouffalant\", \"Rufflet\", \"Braviary\", \"MeloettaAria Forme\", \"MeloettaPirouette Forme\", \"Bunnelby\", \"Diggersby\", \"Fletchling\", \"Litleo\", \"Pyroar\", \"Furfrou\", \"Helioptile\", \"Heliolisk\"], \"type\": \"scatter\", \"x\": [45, 60, 80, 80, 56, 81, 60, 90, 45, 70, 45, 70, 65, 85, 110, 55, 5, 95, 125, 100, 48, 55, 60, 110, 46, 76, 30, 50, 30, 70, 80, 70, 80, 130, 80, 95, 20, 80, 10, 30, 70, 55, 85, 60, 80, 160, 51, 71, 91, 20, 45, 65, 60, 40, 115, 70, 90, 55, 75, 120, 45, 85, 100, 66, 76, 136, 55, 82, 5, 65, 85, 85, 80, 160, 120, 55, 85, 60, 80, 110, 55, 77, 115, 60, 60, 50, 95, 60, 100, 110, 83, 123, 77, 128, 36, 56, 50, 50, 68, 80, 38, 55], \"y\": [40, 55, 75, 80, 35, 60, 30, 65, 20, 45, 35, 60, 55, 45, 70, 75, 5, 80, 100, 95, 48, 50, 70, 65, 34, 64, 30, 50, 15, 55, 65, 70, 50, 75, 90, 62, 35, 105, 10, 41, 61, 30, 60, 60, 80, 100, 23, 43, 63, 40, 45, 65, 60, 60, 60, 70, 70, 30, 50, 70, 40, 60, 66, 44, 84, 94, 42, 64, 5, 45, 40, 95, 70, 110, 120, 39, 69, 45, 65, 90, 50, 62, 80, 86, 126, 40, 60, 50, 70, 95, 50, 75, 77, 90, 38, 77, 43, 58, 72, 60, 33, 52]}],                        {\"template\": {\"data\": {\"bar\": [{\"error_x\": {\"color\": \"#2a3f5f\"}, \"error_y\": {\"color\": \"#2a3f5f\"}, \"marker\": {\"line\": {\"color\": \"#E5ECF6\", \"width\": 0.5}}, \"type\": \"bar\"}], \"barpolar\": [{\"marker\": {\"line\": {\"color\": \"#E5ECF6\", \"width\": 0.5}}, \"type\": \"barpolar\"}], \"carpet\": [{\"aaxis\": {\"endlinecolor\": \"#2a3f5f\", \"gridcolor\": \"white\", \"linecolor\": \"white\", \"minorgridcolor\": \"white\", \"startlinecolor\": \"#2a3f5f\"}, \"baxis\": {\"endlinecolor\": \"#2a3f5f\", \"gridcolor\": \"white\", \"linecolor\": \"white\", \"minorgridcolor\": \"white\", \"startlinecolor\": \"#2a3f5f\"}, \"type\": \"carpet\"}], \"choropleth\": [{\"colorbar\": {\"outlinewidth\": 0, \"ticks\": \"\"}, \"type\": \"choropleth\"}], \"contour\": [{\"colorbar\": {\"outlinewidth\": 0, \"ticks\": \"\"}, \"colorscale\": [[0.0, \"#0d0887\"], [0.1111111111111111, \"#46039f\"], [0.2222222222222222, \"#7201a8\"], [0.3333333333333333, \"#9c179e\"], [0.4444444444444444, \"#bd3786\"], [0.5555555555555556, \"#d8576b\"], [0.6666666666666666, \"#ed7953\"], [0.7777777777777778, \"#fb9f3a\"], [0.8888888888888888, \"#fdca26\"], [1.0, \"#f0f921\"]], \"type\": \"contour\"}], \"contourcarpet\": [{\"colorbar\": {\"outlinewidth\": 0, \"ticks\": \"\"}, \"type\": \"contourcarpet\"}], \"heatmap\": [{\"colorbar\": {\"outlinewidth\": 0, \"ticks\": \"\"}, \"colorscale\": [[0.0, \"#0d0887\"], [0.1111111111111111, \"#46039f\"], [0.2222222222222222, \"#7201a8\"], [0.3333333333333333, \"#9c179e\"], [0.4444444444444444, \"#bd3786\"], [0.5555555555555556, \"#d8576b\"], [0.6666666666666666, \"#ed7953\"], [0.7777777777777778, \"#fb9f3a\"], [0.8888888888888888, \"#fdca26\"], [1.0, \"#f0f921\"]], \"type\": \"heatmap\"}], \"heatmapgl\": [{\"colorbar\": {\"outlinewidth\": 0, \"ticks\": \"\"}, \"colorscale\": [[0.0, \"#0d0887\"], [0.1111111111111111, \"#46039f\"], [0.2222222222222222, \"#7201a8\"], [0.3333333333333333, \"#9c179e\"], [0.4444444444444444, \"#bd3786\"], [0.5555555555555556, \"#d8576b\"], [0.6666666666666666, \"#ed7953\"], [0.7777777777777778, \"#fb9f3a\"], [0.8888888888888888, \"#fdca26\"], [1.0, \"#f0f921\"]], \"type\": \"heatmapgl\"}], \"histogram\": [{\"marker\": {\"colorbar\": {\"outlinewidth\": 0, \"ticks\": \"\"}}, \"type\": \"histogram\"}], \"histogram2d\": [{\"colorbar\": {\"outlinewidth\": 0, \"ticks\": \"\"}, \"colorscale\": [[0.0, \"#0d0887\"], [0.1111111111111111, \"#46039f\"], [0.2222222222222222, \"#7201a8\"], [0.3333333333333333, \"#9c179e\"], [0.4444444444444444, \"#bd3786\"], [0.5555555555555556, \"#d8576b\"], [0.6666666666666666, \"#ed7953\"], [0.7777777777777778, \"#fb9f3a\"], [0.8888888888888888, \"#fdca26\"], [1.0, \"#f0f921\"]], \"type\": \"histogram2d\"}], \"histogram2dcontour\": [{\"colorbar\": {\"outlinewidth\": 0, \"ticks\": \"\"}, \"colorscale\": [[0.0, \"#0d0887\"], [0.1111111111111111, \"#46039f\"], [0.2222222222222222, \"#7201a8\"], [0.3333333333333333, \"#9c179e\"], [0.4444444444444444, \"#bd3786\"], [0.5555555555555556, \"#d8576b\"], [0.6666666666666666, \"#ed7953\"], [0.7777777777777778, \"#fb9f3a\"], [0.8888888888888888, \"#fdca26\"], [1.0, \"#f0f921\"]], \"type\": \"histogram2dcontour\"}], \"mesh3d\": [{\"colorbar\": {\"outlinewidth\": 0, \"ticks\": \"\"}, \"type\": \"mesh3d\"}], \"parcoords\": [{\"line\": {\"colorbar\": {\"outlinewidth\": 0, \"ticks\": \"\"}}, \"type\": \"parcoords\"}], \"pie\": [{\"automargin\": true, \"type\": \"pie\"}], \"scatter\": [{\"marker\": {\"colorbar\": {\"outlinewidth\": 0, \"ticks\": \"\"}}, \"type\": \"scatter\"}], \"scatter3d\": [{\"line\": {\"colorbar\": {\"outlinewidth\": 0, \"ticks\": \"\"}}, \"marker\": {\"colorbar\": {\"outlinewidth\": 0, \"ticks\": \"\"}}, \"type\": \"scatter3d\"}], \"scattercarpet\": [{\"marker\": {\"colorbar\": {\"outlinewidth\": 0, \"ticks\": \"\"}}, \"type\": \"scattercarpet\"}], \"scattergeo\": [{\"marker\": {\"colorbar\": {\"outlinewidth\": 0, \"ticks\": \"\"}}, \"type\": \"scattergeo\"}], \"scattergl\": [{\"marker\": {\"colorbar\": {\"outlinewidth\": 0, \"ticks\": \"\"}}, \"type\": \"scattergl\"}], \"scattermapbox\": [{\"marker\": {\"colorbar\": {\"outlinewidth\": 0, \"ticks\": \"\"}}, \"type\": \"scattermapbox\"}], \"scatterpolar\": [{\"marker\": {\"colorbar\": {\"outlinewidth\": 0, \"ticks\": \"\"}}, \"type\": \"scatterpolar\"}], \"scatterpolargl\": [{\"marker\": {\"colorbar\": {\"outlinewidth\": 0, \"ticks\": \"\"}}, \"type\": \"scatterpolargl\"}], \"scatterternary\": [{\"marker\": {\"colorbar\": {\"outlinewidth\": 0, \"ticks\": \"\"}}, \"type\": \"scatterternary\"}], \"surface\": [{\"colorbar\": {\"outlinewidth\": 0, \"ticks\": \"\"}, \"colorscale\": [[0.0, \"#0d0887\"], [0.1111111111111111, \"#46039f\"], [0.2222222222222222, \"#7201a8\"], [0.3333333333333333, \"#9c179e\"], [0.4444444444444444, \"#bd3786\"], [0.5555555555555556, \"#d8576b\"], [0.6666666666666666, \"#ed7953\"], [0.7777777777777778, \"#fb9f3a\"], [0.8888888888888888, \"#fdca26\"], [1.0, \"#f0f921\"]], \"type\": \"surface\"}], \"table\": [{\"cells\": {\"fill\": {\"color\": \"#EBF0F8\"}, \"line\": {\"color\": \"white\"}}, \"header\": {\"fill\": {\"color\": \"#C8D4E3\"}, \"line\": {\"color\": \"white\"}}, \"type\": \"table\"}]}, \"layout\": {\"annotationdefaults\": {\"arrowcolor\": \"#2a3f5f\", \"arrowhead\": 0, \"arrowwidth\": 1}, \"coloraxis\": {\"colorbar\": {\"outlinewidth\": 0, \"ticks\": \"\"}}, \"colorscale\": {\"diverging\": [[0, \"#8e0152\"], [0.1, \"#c51b7d\"], [0.2, \"#de77ae\"], [0.3, \"#f1b6da\"], [0.4, \"#fde0ef\"], [0.5, \"#f7f7f7\"], [0.6, \"#e6f5d0\"], [0.7, \"#b8e186\"], [0.8, \"#7fbc41\"], [0.9, \"#4d9221\"], [1, \"#276419\"]], \"sequential\": [[0.0, \"#0d0887\"], [0.1111111111111111, \"#46039f\"], [0.2222222222222222, \"#7201a8\"], [0.3333333333333333, \"#9c179e\"], [0.4444444444444444, \"#bd3786\"], [0.5555555555555556, \"#d8576b\"], [0.6666666666666666, \"#ed7953\"], [0.7777777777777778, \"#fb9f3a\"], [0.8888888888888888, \"#fdca26\"], [1.0, \"#f0f921\"]], \"sequentialminus\": [[0.0, \"#0d0887\"], [0.1111111111111111, \"#46039f\"], [0.2222222222222222, \"#7201a8\"], [0.3333333333333333, \"#9c179e\"], [0.4444444444444444, \"#bd3786\"], [0.5555555555555556, \"#d8576b\"], [0.6666666666666666, \"#ed7953\"], [0.7777777777777778, \"#fb9f3a\"], [0.8888888888888888, \"#fdca26\"], [1.0, \"#f0f921\"]]}, \"colorway\": [\"#636efa\", \"#EF553B\", \"#00cc96\", \"#ab63fa\", \"#FFA15A\", \"#19d3f3\", \"#FF6692\", \"#B6E880\", \"#FF97FF\", \"#FECB52\"], \"font\": {\"color\": \"#2a3f5f\"}, \"geo\": {\"bgcolor\": \"white\", \"lakecolor\": \"white\", \"landcolor\": \"#E5ECF6\", \"showlakes\": true, \"showland\": true, \"subunitcolor\": \"white\"}, \"hoverlabel\": {\"align\": \"left\"}, \"hovermode\": \"closest\", \"mapbox\": {\"style\": \"light\"}, \"paper_bgcolor\": \"white\", \"plot_bgcolor\": \"#E5ECF6\", \"polar\": {\"angularaxis\": {\"gridcolor\": \"white\", \"linecolor\": \"white\", \"ticks\": \"\"}, \"bgcolor\": \"#E5ECF6\", \"radialaxis\": {\"gridcolor\": \"white\", \"linecolor\": \"white\", \"ticks\": \"\"}}, \"scene\": {\"xaxis\": {\"backgroundcolor\": \"#E5ECF6\", \"gridcolor\": \"white\", \"gridwidth\": 2, \"linecolor\": \"white\", \"showbackground\": true, \"ticks\": \"\", \"zerolinecolor\": \"white\"}, \"yaxis\": {\"backgroundcolor\": \"#E5ECF6\", \"gridcolor\": \"white\", \"gridwidth\": 2, \"linecolor\": \"white\", \"showbackground\": true, \"ticks\": \"\", \"zerolinecolor\": \"white\"}, \"zaxis\": {\"backgroundcolor\": \"#E5ECF6\", \"gridcolor\": \"white\", \"gridwidth\": 2, \"linecolor\": \"white\", \"showbackground\": true, \"ticks\": \"\", \"zerolinecolor\": \"white\"}}, \"shapedefaults\": {\"line\": {\"color\": \"#2a3f5f\"}}, \"ternary\": {\"aaxis\": {\"gridcolor\": \"white\", \"linecolor\": \"white\", \"ticks\": \"\"}, \"baxis\": {\"gridcolor\": \"white\", \"linecolor\": \"white\", \"ticks\": \"\"}, \"bgcolor\": \"#E5ECF6\", \"caxis\": {\"gridcolor\": \"white\", \"linecolor\": \"white\", \"ticks\": \"\"}}, \"title\": {\"x\": 0.05}, \"xaxis\": {\"automargin\": true, \"gridcolor\": \"white\", \"linecolor\": \"white\", \"ticks\": \"\", \"title\": {\"standoff\": 15}, \"zerolinecolor\": \"white\", \"zerolinewidth\": 2}, \"yaxis\": {\"automargin\": true, \"gridcolor\": \"white\", \"linecolor\": \"white\", \"ticks\": \"\", \"title\": {\"standoff\": 15}, \"zerolinecolor\": \"white\", \"zerolinewidth\": 2}}}, \"title\": {\"text\": \"Grass vs Normal Pokemons\"}, \"xaxis\": {\"title\": {\"text\": \"Attack Power\"}}, \"yaxis\": {\"title\": {\"text\": \"Defence Power\"}}},                        {\"responsive\": true}                    ).then(function(){\n",
       "                            \n",
       "var gd = document.getElementById('516f0806-a04a-443b-910b-ffb816a3a1d7');\n",
       "var x = new MutationObserver(function (mutations, observer) {{\n",
       "        var display = window.getComputedStyle(gd).display;\n",
       "        if (!display || display === 'none') {{\n",
       "            console.log([gd, 'removed!']);\n",
       "            Plotly.purge(gd);\n",
       "            observer.disconnect();\n",
       "        }}\n",
       "}});\n",
       "\n",
       "// Listen for the removal of the full notebook cells\n",
       "var notebookContainer = gd.closest('#notebook-container');\n",
       "if (notebookContainer) {{\n",
       "    x.observe(notebookContainer, {childList: true});\n",
       "}}\n",
       "\n",
       "// Listen for the clearing of the current output cell\n",
       "var outputEl = gd.closest('.output');\n",
       "if (outputEl) {{\n",
       "    x.observe(outputEl, {childList: true});\n",
       "}}\n",
       "\n",
       "                        })                };                });            </script>        </div>"
      ]
     },
     "metadata": {},
     "output_type": "display_data"
    }
   ],
   "source": [
    "def Poke_type_compare(type1, type2):\n",
    "        t1 = type1.capitalize()\n",
    "        t2 = type2.capitalize()\n",
    "        title1 = t1 + \" vs \" + t2 + \" \"  + \"Pokemons\"\n",
    "\n",
    "        poke1 = df[(df[\"TYPE 1\"] == t1) | (df[\"TYPE 2\"] == t1)]\n",
    "        poke2 = df[(df[\"TYPE 1\"] == t2) | (df[\"TYPE 2\"] == t2)]\n",
    "\n",
    "        layout = go.Layout(title= title1,\n",
    "                               yaxis=dict(title=\"Defence Power\"),xaxis=dict(title=\"Attack Power\"))\n",
    "\n",
    "        trace1 = go.Scatter(x=poke1.ATTACK, y=poke1.DEFENSE, mode=\"markers\",\n",
    "                name=t1, marker = dict(color=\"rgb(255,0,0)\", size=8), text=poke1.index)\n",
    "\n",
    "        trace2 = go.Scatter(x=poke2.ATTACK, y=poke2.DEFENSE, mode=\"markers\",\n",
    "                name=t2, marker = dict(color=\"rgb(0,100,0)\", size=8), text=poke2.index)\n",
    "\n",
    "        fig = go.Figure(data=[trace1, trace2], layout=layout)\n",
    "        py.offline.iplot(fig)\n",
    "    except Exception:\n",
    "        print(\"Enter the names of pokemon types in lower.\")\n",
    "        \n",
    "Poke_type_compare(\"water\", \"bug\")\n",
    "Poke_type_compare(\"grass\", \"normal\")"
   ]
  },
  {
   "cell_type": "code",
   "execution_count": 23,
   "metadata": {},
   "outputs": [
    {
     "data": {
      "image/png": "[encoded data removed]",
      "text/plain": [
       "<Figure size 864x432 with 1 Axes>"
      ]
     },
     "metadata": {
      "needs_background": "light"
     },
     "output_type": "display_data"
    }
   ],
   "source": [
    "df_test = df.drop([\"TYPE 1\", \"TYPE 2\", \"TOTAL\", \"GENERATION\", \"LEGENDARY\"], axis=1)\n",
    "\n",
    "def poke_compare(poke1, poke2):\n",
    "    try:    \n",
    "        df_test.loc[poke1].plot(color=\"r\", marker=\"o\", markersize=10 , label=poke1)\n",
    "        df_test.loc[poke2].plot(color=\"c\", marker=\"o\", markersize=10, label=poke2)\n",
    "        plt.xlabel(\"Features\")\n",
    "        plt.ylabel(\"Values\")\n",
    "        plt.title(poke1 + \" vs \" + poke2)\n",
    "        fig = plt.gcf()\n",
    "        fig.set_size_inches(12, 6)\n",
    "        plt.legend()\n",
    "        plt.show()\n",
    "    except Exception:\n",
    "        print(\"Please enter the correct names of the Pokemons\")\n",
    "    \n",
    "poke_compare(\"Charmander\", \"Mega Venusaur\")"
   ]
  },
  {
   "cell_type": "code",
   "execution_count": 24,
   "metadata": {},
   "outputs": [
    {
     "data": {
      "image/png": "[encoded data removed]",
      "text/plain": [
       "<Figure size 864x432 with 1 Axes>"
      ]
     },
     "metadata": {
      "needs_background": "light"
     },
     "output_type": "display_data"
    }
   ],
   "source": [
    "def poke_compare(poke1, poke2):\n",
    "    try:\n",
    "        fig = plt.figure()\n",
    "        ax = fig.add_subplot(111)\n",
    "        width = 0.4\n",
    "        \n",
    "        df_test.loc[\"Charmander\"].plot(kind=\"bar\", color=\"r\", ax=ax,\n",
    "                    width=width,position=1, label=poke1)\n",
    "        \n",
    "        df_test.loc[\"Mega Venusaur\"].plot(kind=\"bar\", color=\"c\",\n",
    "                    ax=ax, width=width, position=0, label=poke2)\n",
    "        \n",
    "        plt.xticks(rotation=0)\n",
    "        plt.xlabel(\"Features\")\n",
    "        plt.ylabel(\"Values\")\n",
    "        plt.title(poke1 + \" vs \" + poke2)\n",
    "        plt.legend()\n",
    "        fig = plt.gcf()\n",
    "        fig.set_size_inches(12, 6)\n",
    "        plt.show()\n",
    "    except Exception:\n",
    "        print(\"Please enter the correct names of the Pokemons\")\n",
    "        \n",
    "        \n",
    "poke_compare(\"Pikachu\", \"Squirtle\")"
   ]
  },
  {
   "cell_type": "code",
   "execution_count": 29,
   "metadata": {},
   "outputs": [
    {
     "data": {
      "image/png": "[encoded data removed]",
      "text/plain": [
       "<Figure size 504x504 with 1 Axes>"
      ]
     },
     "metadata": {},
     "output_type": "display_data"
    }
   ],
   "source": [
    "labels = 'Water', 'Normal', 'Grass', 'Bug', 'Psychic', 'Fire', 'Electric', 'Rock', 'Other'\n",
    "sizes = [112, 98, 70, 69, 57, 52, 44, 44, 175]\n",
    "colors = ['#0040ff', '#ffff00', '#00ff00', '#ff00bf', '#ff0000', '#006400', '#C0C0C0', '#FFFFFF', '#FF00FF']\n",
    "explode = (0, 0, 0.1, 0, 0, 0, 0, 0, 0)  \n",
    "plt.pie(sizes, explode=explode, labels=labels, colors=colors,\n",
    "        autopct='%1.1f%%', shadow=True, startangle=90)\n",
    "plt.axis('equal')\n",
    "plt.title(\"Percentage of Different Types of Pokemon\")\n",
    "plt.plot()\n",
    "fig=plt.gcf()\n",
    "fig.set_size_inches(7,7)\n",
    "plt.show()\n",
    "\n"
   ]
  },
  {
   "cell_type": "code",
   "execution_count": null,
   "metadata": {},
   "outputs": [],
   "source": []
  }
 ],
 "metadata": {
  "kernelspec": {
   "display_name": "Python 3",
   "language": "python",
   "name": "python3"
  },
  "language_info": {
   "codemirror_mode": {
    "name": "ipython",
    "version": 3
   },
   "file_extension": ".py",
   "mimetype": "text/x-python",
   "name": "python",
   "nbconvert_exporter": "python",
   "pygments_lexer": "ipython3",
   "version": "3.8.5"
  }
 },
 "nbformat": 4,
 "nbformat_minor": 4
}